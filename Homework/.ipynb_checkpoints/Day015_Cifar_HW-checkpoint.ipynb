{
 "cells": [
  {
   "cell_type": "markdown",
   "metadata": {
    "colab_type": "text",
    "id": "RAhUxwL4k0Bl"
   },
   "source": [
    "## 『本次練習內容』\n",
    "#### 運用這幾天所學觀念搭建一個CNN分類器"
   ]
  },
  {
   "cell_type": "markdown",
   "metadata": {
    "colab_type": "text",
    "id": "4P-faIBek0Bn"
   },
   "source": [
    "## 『本次練習目的』\n",
    "  #### 熟悉CNN分類器搭建步驟與原理\n",
    "  #### 學員們可以嘗試不同搭法，如使用不同的Maxpooling層，用GlobalAveragePooling取代Flatten等等"
   ]
  },
  {
   "cell_type": "code",
   "execution_count": 1,
   "metadata": {
    "colab": {
     "base_uri": "https://localhost:8080/",
     "height": 80
    },
    "colab_type": "code",
    "id": "I82JeRvEk0Bo",
    "outputId": "2f684328-2bb3-460c-8277-695909c4c01b"
   },
   "outputs": [
    {
     "name": "stderr",
     "output_type": "stream",
     "text": [
      "Using TensorFlow backend.\n"
     ]
    }
   ],
   "source": [
    "from keras.models import Sequential\n",
    "from keras.layers import Convolution2D\n",
    "from keras.layers import MaxPooling2D\n",
    "from keras.layers import Flatten\n",
    "from keras.layers import Dense\n",
    "from keras.layers import Dropout\n",
    "from keras.layers import BatchNormalization\n",
    "from keras.datasets import cifar10\n",
    "import numpy as np\n",
    "import tensorflow as tf\n",
    "from sklearn.preprocessing import OneHotEncoder\n"
   ]
  },
  {
   "cell_type": "code",
   "execution_count": 2,
   "metadata": {
    "colab": {
     "base_uri": "https://localhost:8080/",
     "height": 68
    },
    "colab_type": "code",
    "id": "jjUBeH_5k0Bv",
    "outputId": "0cfe10e7-a3ed-4a36-8e80-dfed06ee0150"
   },
   "outputs": [
    {
     "name": "stdout",
     "output_type": "stream",
     "text": [
      "(50000, 32, 32, 3)\n"
     ]
    }
   ],
   "source": [
    "(x_train, y_train), (x_test, y_test) = cifar10.load_data()\n",
    "\n",
    "print(x_train.shape) #(50000, 32, 32, 3)\n",
    "\n",
    "## Normalize Data\n",
    "def normalize(X_train,X_test):\n",
    "        mean = np.mean(X_train,axis=(0,1,2,3))\n",
    "        std = np.std(X_train, axis=(0, 1, 2, 3))\n",
    "        X_train = (X_train-mean)/(std+1e-7)\n",
    "        X_test = (X_test-mean)/(std+1e-7) \n",
    "        return X_train, X_test,mean,std\n",
    "    \n",
    "    \n",
    "## Normalize Training and Testset    \n",
    "x_train, x_test,mean_train,std_train = normalize(x_train, x_test) "
   ]
  },
  {
   "cell_type": "code",
   "execution_count": 3,
   "metadata": {
    "colab": {
     "base_uri": "https://localhost:8080/",
     "height": 105
    },
    "colab_type": "code",
    "id": "ISkMLQJ8k0By",
    "outputId": "d0c9b9df-730b-4c39-f9f6-0ec290745442"
   },
   "outputs": [
    {
     "name": "stderr",
     "output_type": "stream",
     "text": [
      "C:\\Users\\Jude\\Anaconda3\\envs\\tf\\lib\\site-packages\\sklearn\\preprocessing\\_encoders.py:371: FutureWarning: The handling of integer data will change in version 0.22. Currently, the categories are determined based on the range [0, max(values)], while in the future they will be determined based on the unique values.\n",
      "If you want the future behaviour and silence this warning, you can specify \"categories='auto'\".\n",
      "In case you used a LabelEncoder before this OneHotEncoder to convert the categories to integers, then you can now use the OneHotEncoder directly.\n",
      "  warnings.warn(msg, FutureWarning)\n"
     ]
    }
   ],
   "source": [
    "## OneHot Label 由(None, 1)-(None, 10)\n",
    "## ex. label=2,變成[0,0,1,0,0,0,0,0,0,0]\n",
    "one_hot=OneHotEncoder()\n",
    "y_train=one_hot.fit_transform(y_train).toarray()\n",
    "y_test=one_hot.transform(y_test).toarray()"
   ]
  },
  {
   "cell_type": "code",
   "execution_count": 4,
   "metadata": {
    "colab": {
     "base_uri": "https://localhost:8080/",
     "height": 1000
    },
    "colab_type": "code",
    "id": "w1QwpAIWk0B1",
    "outputId": "cb92ba6b-2a96-4c7e-8e3e-95e8fd8374b8"
   },
   "outputs": [
    {
     "name": "stdout",
     "output_type": "stream",
     "text": [
      "WARNING:tensorflow:From C:\\Users\\Jude\\Anaconda3\\envs\\tf\\lib\\site-packages\\tensorflow\\python\\framework\\op_def_library.py:263: colocate_with (from tensorflow.python.framework.ops) is deprecated and will be removed in a future version.\n",
      "Instructions for updating:\n",
      "Colocations handled automatically by placer.\n",
      "WARNING:tensorflow:From C:\\Users\\Jude\\Anaconda3\\envs\\tf\\lib\\site-packages\\tensorflow\\python\\ops\\math_ops.py:3066: to_int32 (from tensorflow.python.ops.math_ops) is deprecated and will be removed in a future version.\n",
      "Instructions for updating:\n",
      "Use tf.cast instead.\n"
     ]
    },
    {
     "name": "stderr",
     "output_type": "stream",
     "text": [
      "C:\\Users\\Jude\\Anaconda3\\envs\\tf\\lib\\site-packages\\ipykernel_launcher.py:24: UserWarning: Update your `Dense` call to the Keras 2 API: `Dense(activation=\"softmax\", units=10)`\n"
     ]
    },
    {
     "name": "stdout",
     "output_type": "stream",
     "text": [
      "Epoch 1/100\n",
      "50000/50000 [==============================] - 11s 215us/step - loss: 1.3613 - acc: 0.5238\n",
      "Epoch 2/100\n",
      "50000/50000 [==============================] - 7s 132us/step - loss: 0.9468 - acc: 0.6676\n",
      "Epoch 3/100\n",
      "50000/50000 [==============================] - 6s 128us/step - loss: 0.7670 - acc: 0.7308\n",
      "Epoch 4/100\n",
      "50000/50000 [==============================] - 6s 126us/step - loss: 0.6130 - acc: 0.7854\n",
      "Epoch 5/100\n",
      "50000/50000 [==============================] - 6s 126us/step - loss: 0.4776 - acc: 0.8340\n",
      "Epoch 6/100\n",
      "50000/50000 [==============================] - 7s 133us/step - loss: 0.3547 - acc: 0.8762\n",
      "Epoch 7/100\n",
      "50000/50000 [==============================] - 7s 142us/step - loss: 0.2614 - acc: 0.9087\n",
      "Epoch 8/100\n",
      "50000/50000 [==============================] - 6s 126us/step - loss: 0.1840 - acc: 0.9372\n",
      "Epoch 9/100\n",
      "50000/50000 [==============================] - 7s 143us/step - loss: 0.1406 - acc: 0.9518\n",
      "Epoch 10/100\n",
      "50000/50000 [==============================] - 7s 132us/step - loss: 0.1274 - acc: 0.9570\n",
      "Epoch 11/100\n",
      "50000/50000 [==============================] - 7s 136us/step - loss: 0.1040 - acc: 0.9644\n",
      "Epoch 12/100\n",
      "50000/50000 [==============================] - 7s 130us/step - loss: 0.0955 - acc: 0.9671\n",
      "Epoch 13/100\n",
      "50000/50000 [==============================] - 6s 124us/step - loss: 0.0796 - acc: 0.9731\n",
      "Epoch 14/100\n",
      "50000/50000 [==============================] - 6s 124us/step - loss: 0.0732 - acc: 0.9748\n",
      "Epoch 15/100\n",
      "50000/50000 [==============================] - 6s 122us/step - loss: 0.0769 - acc: 0.9744\n",
      "Epoch 16/100\n",
      "50000/50000 [==============================] - 6s 122us/step - loss: 0.0686 - acc: 0.9771\n",
      "Epoch 17/100\n",
      "50000/50000 [==============================] - 6s 122us/step - loss: 0.0632 - acc: 0.9783\n",
      "Epoch 18/100\n",
      "50000/50000 [==============================] - 6s 122us/step - loss: 0.0563 - acc: 0.9803\n",
      "Epoch 19/100\n",
      "50000/50000 [==============================] - 6s 124us/step - loss: 0.0540 - acc: 0.9826\n",
      "Epoch 20/100\n",
      "50000/50000 [==============================] - 6s 127us/step - loss: 0.0595 - acc: 0.9805\n",
      "Epoch 21/100\n",
      "50000/50000 [==============================] - 6s 128us/step - loss: 0.0543 - acc: 0.9818\n",
      "Epoch 22/100\n",
      "50000/50000 [==============================] - 6s 130us/step - loss: 0.0445 - acc: 0.9853\n",
      "Epoch 23/100\n",
      "50000/50000 [==============================] - 6s 127us/step - loss: 0.0444 - acc: 0.9856\n",
      "Epoch 24/100\n",
      "50000/50000 [==============================] - 7s 131us/step - loss: 0.0446 - acc: 0.9849\n",
      "Epoch 25/100\n",
      "50000/50000 [==============================] - 6s 129us/step - loss: 0.0414 - acc: 0.9861\n",
      "Epoch 26/100\n",
      "50000/50000 [==============================] - 6s 128us/step - loss: 0.0411 - acc: 0.9864\n",
      "Epoch 27/100\n",
      "50000/50000 [==============================] - 6s 130us/step - loss: 0.0517 - acc: 0.9835\n",
      "Epoch 28/100\n",
      "50000/50000 [==============================] - 6s 128us/step - loss: 0.0398 - acc: 0.9861\n",
      "Epoch 29/100\n",
      "50000/50000 [==============================] - 6s 120us/step - loss: 0.0361 - acc: 0.9882\n",
      "Epoch 30/100\n",
      "50000/50000 [==============================] - 6s 120us/step - loss: 0.0349 - acc: 0.9885\n",
      "Epoch 31/100\n",
      "50000/50000 [==============================] - 6s 120us/step - loss: 0.0354 - acc: 0.9886\n",
      "Epoch 32/100\n",
      "50000/50000 [==============================] - 6s 120us/step - loss: 0.0349 - acc: 0.9891\n",
      "Epoch 33/100\n",
      "50000/50000 [==============================] - 6s 120us/step - loss: 0.0295 - acc: 0.9906\n",
      "Epoch 34/100\n",
      "50000/50000 [==============================] - 6s 121us/step - loss: 0.0305 - acc: 0.9900\n",
      "Epoch 35/100\n",
      "50000/50000 [==============================] - 6s 120us/step - loss: 0.0352 - acc: 0.9886\n",
      "Epoch 36/100\n",
      "50000/50000 [==============================] - 6s 120us/step - loss: 0.0326 - acc: 0.9894\n",
      "Epoch 37/100\n",
      "50000/50000 [==============================] - 6s 120us/step - loss: 0.0274 - acc: 0.9912\n",
      "Epoch 38/100\n",
      "50000/50000 [==============================] - 6s 120us/step - loss: 0.0322 - acc: 0.9899\n",
      "Epoch 39/100\n",
      "50000/50000 [==============================] - 6s 121us/step - loss: 0.0265 - acc: 0.9914\n",
      "Epoch 40/100\n",
      "50000/50000 [==============================] - 6s 120us/step - loss: 0.0332 - acc: 0.9897\n",
      "Epoch 41/100\n",
      "50000/50000 [==============================] - 6s 120us/step - loss: 0.0270 - acc: 0.9917\n",
      "Epoch 42/100\n",
      "50000/50000 [==============================] - 6s 122us/step - loss: 0.0264 - acc: 0.9915\n",
      "Epoch 43/100\n",
      "50000/50000 [==============================] - 6s 120us/step - loss: 0.0283 - acc: 0.9908\n",
      "Epoch 44/100\n",
      "50000/50000 [==============================] - 6s 120us/step - loss: 0.0359 - acc: 0.9888\n",
      "Epoch 45/100\n",
      "50000/50000 [==============================] - 6s 121us/step - loss: 0.0272 - acc: 0.9913\n",
      "Epoch 46/100\n",
      "50000/50000 [==============================] - 6s 124us/step - loss: 0.0211 - acc: 0.9931\n",
      "Epoch 47/100\n",
      "50000/50000 [==============================] - 6s 125us/step - loss: 0.0251 - acc: 0.9924\n",
      "Epoch 48/100\n",
      "50000/50000 [==============================] - 6s 125us/step - loss: 0.0209 - acc: 0.9936\n",
      "Epoch 49/100\n",
      "50000/50000 [==============================] - 6s 120us/step - loss: 0.0264 - acc: 0.9916\n",
      "Epoch 50/100\n",
      "50000/50000 [==============================] - 6s 119us/step - loss: 0.0263 - acc: 0.9923\n",
      "Epoch 51/100\n",
      "50000/50000 [==============================] - 6s 124us/step - loss: 0.0192 - acc: 0.9939\n",
      "Epoch 52/100\n",
      "50000/50000 [==============================] - 6s 123us/step - loss: 0.0195 - acc: 0.9937\n",
      "Epoch 53/100\n",
      "50000/50000 [==============================] - 6s 123us/step - loss: 0.0290 - acc: 0.9913\n",
      "Epoch 54/100\n",
      "50000/50000 [==============================] - 6s 122us/step - loss: 0.0201 - acc: 0.9932\n",
      "Epoch 55/100\n",
      "50000/50000 [==============================] - 6s 122us/step - loss: 0.0143 - acc: 0.9955\n",
      "Epoch 56/100\n",
      "50000/50000 [==============================] - 6s 122us/step - loss: 0.0238 - acc: 0.9928\n",
      "Epoch 57/100\n",
      "50000/50000 [==============================] - 6s 122us/step - loss: 0.0222 - acc: 0.9926\n",
      "Epoch 58/100\n",
      "50000/50000 [==============================] - 6s 122us/step - loss: 0.0242 - acc: 0.9924\n",
      "Epoch 59/100\n",
      "50000/50000 [==============================] - 6s 122us/step - loss: 0.0226 - acc: 0.9929\n",
      "Epoch 60/100\n",
      "50000/50000 [==============================] - 7s 133us/step - loss: 0.0221 - acc: 0.9931\n",
      "Epoch 61/100\n",
      "50000/50000 [==============================] - 7s 135us/step - loss: 0.0151 - acc: 0.9953\n",
      "Epoch 62/100\n",
      "50000/50000 [==============================] - 6s 129us/step - loss: 0.0168 - acc: 0.9951\n",
      "Epoch 63/100\n",
      "50000/50000 [==============================] - 6s 128us/step - loss: 0.0192 - acc: 0.9943\n",
      "Epoch 64/100\n",
      "50000/50000 [==============================] - 6s 129us/step - loss: 0.0229 - acc: 0.9929\n",
      "Epoch 65/100\n",
      "50000/50000 [==============================] - 7s 138us/step - loss: 0.0261 - acc: 0.9928\n",
      "Epoch 66/100\n",
      "50000/50000 [==============================] - 6s 130us/step - loss: 0.0149 - acc: 0.9955\n",
      "Epoch 67/100\n",
      "50000/50000 [==============================] - 7s 131us/step - loss: 0.0110 - acc: 0.9963\n",
      "Epoch 68/100\n",
      "50000/50000 [==============================] - 7s 136us/step - loss: 0.0137 - acc: 0.9956\n",
      "Epoch 69/100\n",
      "50000/50000 [==============================] - 6s 127us/step - loss: 0.0187 - acc: 0.9943\n",
      "Epoch 70/100\n",
      "50000/50000 [==============================] - 6s 126us/step - loss: 0.0246 - acc: 0.9926\n",
      "Epoch 71/100\n",
      "50000/50000 [==============================] - 6s 128us/step - loss: 0.0211 - acc: 0.9934\n",
      "Epoch 72/100\n",
      "50000/50000 [==============================] - 7s 137us/step - loss: 0.0134 - acc: 0.9956\n",
      "Epoch 73/100\n",
      "50000/50000 [==============================] - 7s 131us/step - loss: 0.0125 - acc: 0.9959\n",
      "Epoch 74/100\n",
      "50000/50000 [==============================] - 7s 134us/step - loss: 0.0182 - acc: 0.9945\n",
      "Epoch 75/100\n",
      "50000/50000 [==============================] - 7s 134us/step - loss: 0.0146 - acc: 0.9953\n",
      "Epoch 76/100\n",
      "50000/50000 [==============================] - 6s 128us/step - loss: 0.0162 - acc: 0.9950\n",
      "Epoch 77/100\n",
      "50000/50000 [==============================] - 6s 128us/step - loss: 0.0203 - acc: 0.9940\n",
      "Epoch 78/100\n",
      "50000/50000 [==============================] - 6s 128us/step - loss: 0.0121 - acc: 0.9959\n",
      "Epoch 79/100\n",
      "50000/50000 [==============================] - 7s 137us/step - loss: 0.0146 - acc: 0.9956\n",
      "Epoch 80/100\n",
      "50000/50000 [==============================] - 7s 131us/step - loss: 0.0158 - acc: 0.9953\n",
      "Epoch 81/100\n",
      "50000/50000 [==============================] - 7s 135us/step - loss: 0.0161 - acc: 0.9952\n",
      "Epoch 82/100\n",
      "50000/50000 [==============================] - 7s 130us/step - loss: 0.0075 - acc: 0.9974\n",
      "Epoch 83/100\n",
      "50000/50000 [==============================] - 6s 128us/step - loss: 0.0159 - acc: 0.9952\n",
      "Epoch 84/100\n",
      "50000/50000 [==============================] - 6s 128us/step - loss: 0.0155 - acc: 0.9954\n",
      "Epoch 85/100\n",
      "50000/50000 [==============================] - 6s 128us/step - loss: 0.0191 - acc: 0.9942\n",
      "Epoch 86/100\n",
      "50000/50000 [==============================] - 7s 137us/step - loss: 0.0165 - acc: 0.9950\n",
      "Epoch 87/100\n",
      "50000/50000 [==============================] - 7s 134us/step - loss: 0.0141 - acc: 0.9956\n",
      "Epoch 88/100\n",
      "50000/50000 [==============================] - 7s 135us/step - loss: 0.0121 - acc: 0.9961\n",
      "Epoch 89/100\n",
      "50000/50000 [==============================] - 6s 127us/step - loss: 0.0127 - acc: 0.9959\n",
      "Epoch 90/100\n",
      "50000/50000 [==============================] - 6s 128us/step - loss: 0.0153 - acc: 0.9957\n",
      "Epoch 91/100\n",
      "50000/50000 [==============================] - 6s 128us/step - loss: 0.0157 - acc: 0.9953\n",
      "Epoch 92/100\n",
      "50000/50000 [==============================] - 7s 134us/step - loss: 0.0158 - acc: 0.9954\n",
      "Epoch 93/100\n",
      "50000/50000 [==============================] - 7s 132us/step - loss: 0.0126 - acc: 0.9963\n",
      "Epoch 94/100\n",
      "50000/50000 [==============================] - 7s 135us/step - loss: 0.0151 - acc: 0.9953\n",
      "Epoch 95/100\n",
      "50000/50000 [==============================] - 7s 134us/step - loss: 0.0115 - acc: 0.9964\n",
      "Epoch 96/100\n",
      "50000/50000 [==============================] - 6s 127us/step - loss: 0.0136 - acc: 0.9955\n",
      "Epoch 97/100\n",
      "50000/50000 [==============================] - 6s 129us/step - loss: 0.0134 - acc: 0.9959\n",
      "Epoch 98/100\n",
      "50000/50000 [==============================] - 6s 126us/step - loss: 0.0132 - acc: 0.9961\n",
      "Epoch 99/100\n",
      "50000/50000 [==============================] - 7s 137us/step - loss: 0.0149 - acc: 0.9955\n",
      "Epoch 100/100\n",
      "50000/50000 [==============================] - 7s 131us/step - loss: 0.0176 - acc: 0.9948\n"
     ]
    },
    {
     "data": {
      "text/plain": [
       "<keras.callbacks.History at 0x1786c36fac8>"
      ]
     },
     "execution_count": 4,
     "metadata": {},
     "output_type": "execute_result"
    }
   ],
   "source": [
    "\n",
    "classifier=Sequential()\n",
    "\n",
    "#卷積組合\n",
    "classifier.add(Convolution2D(32, (3,3), input_shape = (32,32,3), activation = 'relu', padding = 'same'))#32,3,3,input_shape=(32,32,3),activation='relu''\n",
    "classifier.add(BatchNormalization())\n",
    "\n",
    "\n",
    "\n",
    "#卷積組合\n",
    "classifier.add(Convolution2D(32, (3, 3), activation = 'relu'))\n",
    "classifier.add(BatchNormalization())\n",
    "\n",
    "'''自己決定MaxPooling2D放在哪裡'''\n",
    "classifier.add(MaxPooling2D(pool_size=(2,2)))\n",
    "\n",
    "#flatten\n",
    "classifier.add(Flatten())\n",
    "\n",
    "#FC\n",
    "classifier.add(Dense(100, activation = 'relu')) #output_dim=100,activation=relu\n",
    "\n",
    "#輸出\n",
    "classifier.add(Dense(output_dim=10, activation='softmax'))\n",
    "\n",
    "#超過兩個就要選categorical_crossentrophy\n",
    "classifier.compile(optimizer = 'adam', loss = 'categorical_crossentropy', metrics = ['accuracy'])\n",
    "classifier.fit(x_train,y_train,batch_size=100,epochs=100)"
   ]
  },
  {
   "cell_type": "markdown",
   "metadata": {
    "colab_type": "text",
    "id": "_P1fmLQXk0B4"
   },
   "source": [
    "## 預測新圖片，輸入影像前處理要與訓練時相同\n",
    "#### ((X-mean)/(std+1e-7) ):這裡的mean跟std是訓練集的\n",
    "## 維度如下方示範"
   ]
  },
  {
   "cell_type": "code",
   "execution_count": 5,
   "metadata": {
    "colab": {
     "base_uri": "https://localhost:8080/",
     "height": 68
    },
    "colab_type": "code",
    "id": "IMN09XoSk0B5",
    "outputId": "8d2e986e-e1f5-4b66-b05e-e5c69bf4e169"
   },
   "outputs": [
    {
     "data": {
      "text/plain": [
       "array([[9.6729136e-14, 2.4744958e-37, 8.4463497e-10, 1.0000000e+00,\n",
       "        6.2090305e-21, 5.1942683e-31, 3.3605202e-14, 3.4771209e-22,\n",
       "        1.3417370e-10, 0.0000000e+00]], dtype=float32)"
      ]
     },
     "execution_count": 5,
     "metadata": {},
     "output_type": "execute_result"
    }
   ],
   "source": [
    "input_example=(np.zeros(shape=(1,32,32,3))-mean_train)/(std_train+1e-7) \n",
    "classifier.predict(input_example)"
   ]
  }
 ],
 "metadata": {
  "accelerator": "GPU",
  "colab": {
   "name": "Day015_Cifar_HW.ipynb",
   "provenance": []
  },
  "kernelspec": {
   "display_name": "Python [conda env:tf]",
   "language": "python",
   "name": "conda-env-tf-py"
  },
  "language_info": {
   "codemirror_mode": {
    "name": "ipython",
    "version": 3
   },
   "file_extension": ".py",
   "mimetype": "text/x-python",
   "name": "python",
   "nbconvert_exporter": "python",
   "pygments_lexer": "ipython3",
   "version": "3.7.3"
  }
 },
 "nbformat": 4,
 "nbformat_minor": 2
}
