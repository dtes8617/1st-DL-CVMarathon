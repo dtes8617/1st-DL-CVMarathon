{
 "cells": [
  {
   "cell_type": "markdown",
   "metadata": {},
   "source": [
    "## 『本次練習內容』\n",
    "#### 搭建一個能識別驗證碼的模型(CNN+CTC)"
   ]
  },
  {
   "cell_type": "markdown",
   "metadata": {},
   "source": [
    "## 『本次練習目的』\n",
    "  #### 了解如何結合CNN與CTC Loss\n",
    "  #### 有時間學員也可以延伸閱讀CNN+RNN+CTC模型\n",
    "  #### 沒有GPU的學員可以使用Colab，可以參考問答區的文章"
   ]
  },
  {
   "cell_type": "code",
   "execution_count": 1,
   "metadata": {},
   "outputs": [],
   "source": [
    "## 使用Colab可先run這裡的code\n",
    "#假如要連結自己的雲端硬碟再開啟\n",
    "##from google.colab import drive\n",
    "##drive.mount('/content/gdrive')\n",
    "#檢查GPU\n",
    "##!nvidia-smi\n",
    "##安裝產生驗證碼的套件"
   ]
  },
  {
   "cell_type": "markdown",
   "metadata": {},
   "source": [
    "## 記得先 pip install captcha"
   ]
  },
  {
   "cell_type": "code",
   "execution_count": null,
   "metadata": {
    "colab": {
     "base_uri": "https://localhost:8080/",
     "height": 136
    },
    "colab_type": "code",
    "id": "AxGi02yvx1Go",
    "outputId": "e7bf7eb2-6699-441b-d724-6b5635ffa2bc"
   },
   "outputs": [],
   "source": [
    "# !pip install captcha"
   ]
  },
  {
   "cell_type": "markdown",
   "metadata": {},
   "source": [
    "## 產生驗證碼"
   ]
  },
  {
   "cell_type": "code",
   "execution_count": 2,
   "metadata": {
    "colab": {
     "base_uri": "https://localhost:8080/",
     "height": 254
    },
    "colab_type": "code",
    "id": "h2VVCBKwk6Zv",
    "outputId": "72cda421-1eca-46b1-d5bd-3b3d9e47eb08"
   },
   "outputs": [
    {
     "name": "stdout",
     "output_type": "stream",
     "text": [
      "0123456789ABCDEFGHIJKLMNOPQRSTUVWXYZ\n"
     ]
    },
    {
     "data": {
      "text/plain": [
       "Text(0.5, 1.0, '770J')"
      ]
     },
     "execution_count": 2,
     "metadata": {},
     "output_type": "execute_result"
    },
    {
     "data": {
      "image/png": "[encoded data removed]",
      "text/plain": [
       "<Figure size 432x288 with 1 Axes>"
      ]
     },
     "metadata": {
      "image/png": {
       "height": 203,
       "width": 369
      },
      "needs_background": "light"
     },
     "output_type": "display_data"
    }
   ],
   "source": [
    "from captcha.image import ImageCaptcha\n",
    "import matplotlib.pyplot as plt\n",
    "import numpy as np\n",
    "import random\n",
    "\n",
    "%matplotlib inline\n",
    "%config InlineBackend.figure_format = 'retina'\n",
    "\n",
    "import string\n",
    "##驗證碼包含0-10數字以及26個英文字母\n",
    "characters = string.digits + string.ascii_uppercase\n",
    "print(characters)\n",
    "\n",
    "##設定產生圖片尺寸，以及總類別，n_class之所以要加一是為了留一個位置給Blank\n",
    "width, height, n_len, n_class = 170, 80, 4, len(characters)+1\n",
    "\n",
    "##設定產生驗證碼的generator\n",
    "generator = ImageCaptcha(width=width, height=height)\n",
    "\n",
    "##我們先練習固定長度4個字的驗證碼\n",
    "random_str = ''.join([random.choice(characters) for j in range(4)])\n",
    "img = generator.generate_image(random_str)\n",
    "\n",
    "plt.imshow(img)\n",
    "plt.title(random_str)"
   ]
  },
  {
   "cell_type": "markdown",
   "metadata": {},
   "source": [
    "## 自己搭建一個CNN模型使得output feature Map 高度被壓縮成小於4，8<寬度<20\n",
    "#### 解答的output feature Map 為 (batch_size,1,13,32)"
   ]
  },
  {
   "cell_type": "code",
   "execution_count": 6,
   "metadata": {
    "colab": {
     "base_uri": "https://localhost:8080/",
     "height": 136
    },
    "colab_type": "code",
    "id": "KX3Jq1sClGGn",
    "outputId": "ea40671a-fc3b-4758-8d29-4692252e840d"
   },
   "outputs": [
    {
     "name": "stdout",
     "output_type": "stream",
     "text": [
      "WARNING:tensorflow:From C:\\Users\\Jude\\Anaconda3\\envs\\tf\\lib\\site-packages\\keras\\backend\\tensorflow_backend.py:4249: to_int32 (from tensorflow.python.ops.math_ops) is deprecated and will be removed in a future version.\n",
      "Instructions for updating:\n",
      "Use tf.cast instead.\n",
      "WARNING:tensorflow:From C:\\Users\\Jude\\Anaconda3\\envs\\tf\\lib\\site-packages\\keras\\backend\\tensorflow_backend.py:4229: to_int64 (from tensorflow.python.ops.math_ops) is deprecated and will be removed in a future version.\n",
      "Instructions for updating:\n",
      "Use tf.cast instead.\n"
     ]
    },
    {
     "name": "stderr",
     "output_type": "stream",
     "text": [
      "C:\\Users\\Jude\\Anaconda3\\envs\\tf\\lib\\site-packages\\ipykernel_launcher.py:51: UserWarning: Update your `Model` call to the Keras 2 API: `Model(inputs=Tensor(\"in..., outputs=Tensor(\"de...)`\n",
      "C:\\Users\\Jude\\Anaconda3\\envs\\tf\\lib\\site-packages\\ipykernel_launcher.py:62: UserWarning: Update your `Model` call to the Keras 2 API: `Model(inputs=[<tf.Tenso..., outputs=[<tf.Tenso...)`\n"
     ]
    }
   ],
   "source": [
    "from keras.models import *\n",
    "from keras.layers import *\n",
    "rnn_size = 128\n",
    "\n",
    "input_tensor = Input((height,width, 3))\n",
    "x = input_tensor\n",
    "\n",
    "'''自己設計CNN層'''\n",
    "\n",
    "x = Conv2D(32, (3, 3), name = 'conv2d_9')(x)\n",
    "x = BatchNormalization(name = 'batch_normalization_9')(x)\n",
    "x = Conv2D(32, (3, 3), name = 'conv2d_10')(x)\n",
    "x = BatchNormalization(name = 'batch_normalization_10')(x)\n",
    "x = MaxPooling2D(strides = 2, name = 'max_pooling2d_5')(x)\n",
    "\n",
    "x = Conv2D(32, (3, 3), name = 'conv2d_11')(x)\n",
    "x = BatchNormalization(name = 'batch_normalization_11')(x)\n",
    "x = Conv2D(32, (3, 3), name = 'conv2d_12')(x)\n",
    "x = BatchNormalization(name = 'batch_normalization_12')(x)\n",
    "x = MaxPooling2D(strides = 2, name = 'max_pooling2d_6')(x)\n",
    "\n",
    "x = Conv2D(32, (3, 3), name = 'conv2d_13')(x)\n",
    "x = BatchNormalization(name = 'batch_normalization_13')(x)\n",
    "x = Conv2D(32, (3, 3), name = 'conv2d_14')(x)\n",
    "x = BatchNormalization(name = 'batch_normalization_14')(x)\n",
    "x = MaxPooling2D(strides = 2, name = 'max_pooling2d_7')(x)\n",
    "\n",
    "x = Conv2D(32, (3, 3), name = 'conv2d_15')(x)\n",
    "x = BatchNormalization(name = 'batch_normalization_15')(x)\n",
    "x = Conv2D(32, (3, 3), name = 'conv2d_16')(x)\n",
    "x = BatchNormalization(name = 'batch_normalization_16')(x)\n",
    "x = MaxPooling2D((2,1), strides = (2, 1), name = 'max_pooling2d_8')(x)\n",
    "\n",
    "\n",
    "\n",
    "\n",
    "##記錄輸出CNN尺寸，loss部分需要這個資訊\n",
    "##conv_shape=(Batch_size,輸出高度,輸出寬度,輸出深度)\n",
    "conv_shape = x.get_shape()\n",
    "\n",
    "##從(Batch_size,輸出高度,輸出寬度,輸出深度)變成(Batch_size,輸出寬度,輸出深度*輸出高度)，以符合ctc loss需求\n",
    "x = Reshape(target_shape=(int(conv_shape[2]), int(conv_shape[1]*conv_shape[3])))(x)\n",
    "\n",
    "x = Dense(32, activation='relu')(x)\n",
    "\n",
    "x = Dropout(0.25)(x)\n",
    "x = Dense(n_class, activation='softmax')(x)\n",
    "\n",
    "\n",
    "##包裝用來預測的model\n",
    "base_model = Model(input=input_tensor, output=x)\n",
    "\n",
    "\n",
    "##設定要給CTC Loss的資訊\n",
    "labels = Input(name='the_labels', shape=[n_len], dtype='float32')\n",
    "input_length = Input(name='input_length', shape=[1], dtype='int64')\n",
    "label_length = Input(name='label_length', shape=[1], dtype='int64')\n",
    "loss_out = Lambda(ctc_lambda_func, output_shape=(1,), \n",
    "                  name='ctc')([x, labels, input_length, label_length])\n",
    "\n",
    "##這裡的model是用來計算loss\n",
    "model = Model(input=[input_tensor, labels, input_length, label_length], output=[loss_out])\n",
    "\n",
    "##之所以要lambda y_true, y_pred: y_pred是因為我們的loss已經包在網路裡，會output:y_true, y_pred，而我們只需要y_pred\n",
    "model.compile(loss={'ctc': lambda y_true, y_pred: y_pred}, optimizer='SGD')"
   ]
  },
  {
   "cell_type": "code",
   "execution_count": 15,
   "metadata": {
    "colab": {
     "base_uri": "https://localhost:8080/",
     "height": 1000
    },
    "colab_type": "code",
    "id": "m1YRv0TVN_FL",
    "outputId": "c5b995c5-43b0-481b-8cd1-0fd5f85e4f03"
   },
   "outputs": [
    {
     "name": "stdout",
     "output_type": "stream",
     "text": [
      "__________________________________________________________________________________________________\n",
      "Layer (type)                    Output Shape         Param #     Connected to                     \n",
      "==================================================================================================\n",
      "input_2 (InputLayer)            (None, 80, 170, 3)   0                                            \n",
      "__________________________________________________________________________________________________\n",
      "conv2d_9 (Conv2D)               (None, 78, 168, 32)  896         input_2[0][0]                    \n",
      "__________________________________________________________________________________________________\n",
      "batch_normalization_9 (BatchNor (None, 78, 168, 32)  128         conv2d_9[0][0]                   \n",
      "__________________________________________________________________________________________________\n",
      "conv2d_10 (Conv2D)              (None, 76, 166, 32)  9248        batch_normalization_9[0][0]      \n",
      "__________________________________________________________________________________________________\n",
      "batch_normalization_10 (BatchNo (None, 76, 166, 32)  128         conv2d_10[0][0]                  \n",
      "__________________________________________________________________________________________________\n",
      "max_pooling2d_5 (MaxPooling2D)  (None, 38, 83, 32)   0           batch_normalization_10[0][0]     \n",
      "__________________________________________________________________________________________________\n",
      "conv2d_11 (Conv2D)              (None, 36, 81, 32)   9248        max_pooling2d_5[0][0]            \n",
      "__________________________________________________________________________________________________\n",
      "batch_normalization_11 (BatchNo (None, 36, 81, 32)   128         conv2d_11[0][0]                  \n",
      "__________________________________________________________________________________________________\n",
      "conv2d_12 (Conv2D)              (None, 34, 79, 32)   9248        batch_normalization_11[0][0]     \n",
      "__________________________________________________________________________________________________\n",
      "batch_normalization_12 (BatchNo (None, 34, 79, 32)   128         conv2d_12[0][0]                  \n",
      "__________________________________________________________________________________________________\n",
      "max_pooling2d_6 (MaxPooling2D)  (None, 17, 39, 32)   0           batch_normalization_12[0][0]     \n",
      "__________________________________________________________________________________________________\n",
      "conv2d_13 (Conv2D)              (None, 15, 37, 32)   9248        max_pooling2d_6[0][0]            \n",
      "__________________________________________________________________________________________________\n",
      "batch_normalization_13 (BatchNo (None, 15, 37, 32)   128         conv2d_13[0][0]                  \n",
      "__________________________________________________________________________________________________\n",
      "conv2d_14 (Conv2D)              (None, 13, 35, 32)   9248        batch_normalization_13[0][0]     \n",
      "__________________________________________________________________________________________________\n",
      "batch_normalization_14 (BatchNo (None, 13, 35, 32)   128         conv2d_14[0][0]                  \n",
      "__________________________________________________________________________________________________\n",
      "max_pooling2d_7 (MaxPooling2D)  (None, 6, 17, 32)    0           batch_normalization_14[0][0]     \n",
      "__________________________________________________________________________________________________\n",
      "conv2d_15 (Conv2D)              (None, 4, 15, 32)    9248        max_pooling2d_7[0][0]            \n",
      "__________________________________________________________________________________________________\n",
      "batch_normalization_15 (BatchNo (None, 4, 15, 32)    128         conv2d_15[0][0]                  \n",
      "__________________________________________________________________________________________________\n",
      "conv2d_16 (Conv2D)              (None, 2, 13, 32)    9248        batch_normalization_15[0][0]     \n",
      "__________________________________________________________________________________________________\n",
      "batch_normalization_16 (BatchNo (None, 2, 13, 32)    128         conv2d_16[0][0]                  \n",
      "__________________________________________________________________________________________________\n",
      "max_pooling2d_8 (MaxPooling2D)  (None, 1, 13, 32)    0           batch_normalization_16[0][0]     \n",
      "__________________________________________________________________________________________________\n",
      "reshape_2 (Reshape)             (None, 13, 32)       0           max_pooling2d_8[0][0]            \n",
      "__________________________________________________________________________________________________\n",
      "dense_3 (Dense)                 (None, 13, 32)       1056        reshape_2[0][0]                  \n",
      "__________________________________________________________________________________________________\n",
      "dropout_2 (Dropout)             (None, 13, 32)       0           dense_3[0][0]                    \n",
      "__________________________________________________________________________________________________\n",
      "dense_4 (Dense)                 (None, 13, 37)       1221        dropout_2[0][0]                  \n",
      "__________________________________________________________________________________________________\n",
      "the_labels (InputLayer)         (None, 4)            0                                            \n",
      "__________________________________________________________________________________________________\n",
      "input_length (InputLayer)       (None, 1)            0                                            \n",
      "__________________________________________________________________________________________________\n",
      "label_length (InputLayer)       (None, 1)            0                                            \n",
      "__________________________________________________________________________________________________\n",
      "ctc (Lambda)                    (None, 1)            0           dense_4[0][0]                    \n",
      "                                                                 the_labels[0][0]                 \n",
      "                                                                 input_length[0][0]               \n",
      "                                                                 label_length[0][0]               \n",
      "==================================================================================================\n",
      "Total params: 68,933\n",
      "Trainable params: 68,421\n",
      "Non-trainable params: 512\n",
      "__________________________________________________________________________________________________\n"
     ]
    }
   ],
   "source": [
    "model.summary()"
   ]
  },
  {
   "cell_type": "code",
   "execution_count": 4,
   "metadata": {},
   "outputs": [],
   "source": [
    "from keras import backend as K\n",
    "import keras\n",
    "\n",
    "##CTC Loss需要四個資訊，分別是\n",
    "## Label\n",
    "## 預測\n",
    "## CNN OUTPUT寬度\n",
    "## 預測影像所包含文字長度\n",
    "def ctc_lambda_func(args):\n",
    "    y_pred, labels, input_length, label_length = args\n",
    "    return K.ctc_batch_cost(labels, y_pred, input_length, label_length)"
   ]
  },
  {
   "cell_type": "code",
   "execution_count": 5,
   "metadata": {
    "colab": {},
    "colab_type": "code",
    "id": "5Jzb1YnqlJug"
   },
   "outputs": [],
   "source": [
    "##設計generator產生training data\n",
    "## 產生包含要給loss的資訊\n",
    "## X=輸入影像\n",
    "## np.ones(batch_size)*int(conv_shape[2])=CNN輸出feature Map寬度\n",
    "## np.ones(batch_size)*n_len=字串長度(可浮動)\n",
    "\n",
    "def gen(batch_size=128):\n",
    "    X = np.zeros((batch_size,height, width, 3), dtype=np.uint8)\n",
    "    y = np.zeros((batch_size, n_len), dtype=np.uint8)\n",
    "    while True:\n",
    "        generator = ImageCaptcha(width=width, height=height)\n",
    "        for i in range(batch_size):\n",
    "            random_str = ''.join([random.choice(characters) for j in range(4)])\n",
    "            X[i] = np.array(generator.generate_image(random_str))\n",
    "            y[i] = [characters.find(x) for x in random_str]\n",
    "        yield [X, y,np.ones(batch_size)*int(conv_shape[2]), np.ones(batch_size)*n_len], np.ones(batch_size)"
   ]
  },
  {
   "cell_type": "code",
   "execution_count": 7,
   "metadata": {
    "colab": {
     "base_uri": "https://localhost:8080/",
     "height": 225
    },
    "colab_type": "code",
    "id": "dfcFs6InVQaT",
    "outputId": "3f186d49-2e30-4efd-87c0-0670a58bc4c1"
   },
   "outputs": [
    {
     "name": "stdout",
     "output_type": "stream",
     "text": [
      "Label:  [[ 5  6 21 25]]\n",
      "CNN輸出寬度:  [13.]\n",
      "字串長度(可浮動):  [4.]\n"
     ]
    },
    {
     "data": {
      "image/png": "[encoded data removed]",
      "text/plain": [
       "<Figure size 432x288 with 1 Axes>"
      ]
     },
     "metadata": {
      "image/png": {
       "height": 191,
       "width": 369
      },
      "needs_background": "light"
     },
     "output_type": "display_data"
    }
   ],
   "source": [
    "next_ge=gen(batch_size=1)\n",
    "test_ge=next(next_ge)\n",
    "plt.imshow(test_ge[0][0][0])\n",
    "print('Label: ',test_ge[0][1])\n",
    "print('CNN輸出寬度: ',test_ge[0][2])\n",
    "print('字串長度(可浮動): ',test_ge[0][3])"
   ]
  },
  {
   "cell_type": "markdown",
   "metadata": {},
   "source": [
    "## 開始訓練"
   ]
  },
  {
   "cell_type": "code",
   "execution_count": 8,
   "metadata": {
    "colab": {
     "base_uri": "https://localhost:8080/",
     "height": 1000
    },
    "colab_type": "code",
    "id": "fqdKnqollUKj",
    "outputId": "3da34151-a9df-4287-ead6-50c414d30e65"
   },
   "outputs": [
    {
     "name": "stdout",
     "output_type": "stream",
     "text": [
      "WARNING:tensorflow:From C:\\Users\\Jude\\Anaconda3\\envs\\tf\\lib\\site-packages\\tensorflow\\python\\ops\\math_grad.py:102: div (from tensorflow.python.ops.math_ops) is deprecated and will be removed in a future version.\n",
      "Instructions for updating:\n",
      "Deprecated in favor of operator or tf.math.divide.\n",
      "Epoch 1/60\n",
      "300/300 [==============================] - 40s 132ms/step - loss: 15.4536\n",
      "Epoch 2/60\n",
      "300/300 [==============================] - 35s 115ms/step - loss: 12.7675\n",
      "Epoch 3/60\n",
      "300/300 [==============================] - 35s 115ms/step - loss: 10.2121\n",
      "Epoch 4/60\n",
      "300/300 [==============================] - 34s 115ms/step - loss: 8.5675\n",
      "Epoch 5/60\n",
      "300/300 [==============================] - 35s 115ms/step - loss: 7.5715\n",
      "Epoch 6/60\n",
      "300/300 [==============================] - 34s 115ms/step - loss: 6.9279\n",
      "Epoch 7/60\n",
      "300/300 [==============================] - 34s 115ms/step - loss: 6.5219\n",
      "Epoch 8/60\n",
      "300/300 [==============================] - 34s 115ms/step - loss: 6.1075\n",
      "Epoch 9/60\n",
      "300/300 [==============================] - 34s 115ms/step - loss: 5.8726\n",
      "Epoch 10/60\n",
      "300/300 [==============================] - 34s 115ms/step - loss: 5.7194\n",
      "Epoch 11/60\n",
      "300/300 [==============================] - 34s 115ms/step - loss: 5.4597\n",
      "Epoch 12/60\n",
      "300/300 [==============================] - 35s 115ms/step - loss: 5.3251\n",
      "Epoch 13/60\n",
      "300/300 [==============================] - 35s 115ms/step - loss: 5.1846\n",
      "Epoch 14/60\n",
      "300/300 [==============================] - 35s 115ms/step - loss: 5.1051\n",
      "Epoch 15/60\n",
      "300/300 [==============================] - 34s 114ms/step - loss: 4.9689\n",
      "Epoch 16/60\n",
      "300/300 [==============================] - 34s 114ms/step - loss: 4.8500\n",
      "Epoch 17/60\n",
      "300/300 [==============================] - 34s 114ms/step - loss: 4.8278\n",
      "Epoch 18/60\n",
      "300/300 [==============================] - 34s 115ms/step - loss: 4.8632\n",
      "Epoch 19/60\n",
      "300/300 [==============================] - 34s 115ms/step - loss: 4.6345\n",
      "Epoch 20/60\n",
      "300/300 [==============================] - 35s 115ms/step - loss: 4.6674\n",
      "Epoch 21/60\n",
      "300/300 [==============================] - 34s 114ms/step - loss: 4.6270\n",
      "Epoch 22/60\n",
      "300/300 [==============================] - 34s 115ms/step - loss: 4.5636\n",
      "Epoch 23/60\n",
      "300/300 [==============================] - 35s 115ms/step - loss: 4.4151\n",
      "Epoch 24/60\n",
      "300/300 [==============================] - 34s 115ms/step - loss: 4.4544\n",
      "Epoch 25/60\n",
      "300/300 [==============================] - 34s 114ms/step - loss: 4.3835\n",
      "Epoch 26/60\n",
      "300/300 [==============================] - 34s 114ms/step - loss: 4.4164\n",
      "Epoch 27/60\n",
      "300/300 [==============================] - 35s 116ms/step - loss: 4.3144\n",
      "Epoch 28/60\n",
      "300/300 [==============================] - 34s 114ms/step - loss: 4.2991\n",
      "Epoch 29/60\n",
      "300/300 [==============================] - 35s 115ms/step - loss: 4.2534\n",
      "Epoch 30/60\n",
      "300/300 [==============================] - 35s 115ms/step - loss: 4.2310\n",
      "Epoch 31/60\n",
      "300/300 [==============================] - 34s 114ms/step - loss: 4.2094\n",
      "Epoch 32/60\n",
      "300/300 [==============================] - 35s 115ms/step - loss: 4.1510\n",
      "Epoch 33/60\n",
      "300/300 [==============================] - 34s 115ms/step - loss: 4.2000\n",
      "Epoch 34/60\n",
      "300/300 [==============================] - 34s 114ms/step - loss: 4.1860\n",
      "Epoch 35/60\n",
      "300/300 [==============================] - 35s 115ms/step - loss: 4.1242\n",
      "Epoch 36/60\n",
      "300/300 [==============================] - 34s 114ms/step - loss: 4.0718\n",
      "Epoch 37/60\n",
      "300/300 [==============================] - 34s 115ms/step - loss: 4.0118\n",
      "Epoch 38/60\n",
      "300/300 [==============================] - 34s 114ms/step - loss: 4.0684\n",
      "Epoch 39/60\n",
      "300/300 [==============================] - 34s 114ms/step - loss: 4.1017\n",
      "Epoch 40/60\n",
      "300/300 [==============================] - 35s 115ms/step - loss: 4.1071\n",
      "Epoch 41/60\n",
      "300/300 [==============================] - 34s 115ms/step - loss: 3.9849\n",
      "Epoch 42/60\n",
      "300/300 [==============================] - 34s 114ms/step - loss: 4.0597\n",
      "Epoch 43/60\n",
      "300/300 [==============================] - 34s 115ms/step - loss: 3.9480\n",
      "Epoch 44/60\n",
      "300/300 [==============================] - 35s 115ms/step - loss: 3.9553\n",
      "Epoch 45/60\n",
      "300/300 [==============================] - 34s 115ms/step - loss: 3.9550\n",
      "Epoch 46/60\n",
      "300/300 [==============================] - 35s 116ms/step - loss: 3.9159\n",
      "Epoch 47/60\n",
      "300/300 [==============================] - 34s 114ms/step - loss: 3.9890\n",
      "Epoch 48/60\n",
      "300/300 [==============================] - 35s 115ms/step - loss: 3.7790\n",
      "Epoch 49/60\n",
      "300/300 [==============================] - 35s 115ms/step - loss: 3.9430\n",
      "Epoch 50/60\n",
      "300/300 [==============================] - 34s 115ms/step - loss: 3.8037\n",
      "Epoch 51/60\n",
      "300/300 [==============================] - 35s 115ms/step - loss: 3.9192\n",
      "Epoch 52/60\n",
      "300/300 [==============================] - 34s 114ms/step - loss: 3.8585\n",
      "Epoch 53/60\n",
      "300/300 [==============================] - 34s 115ms/step - loss: 3.8902\n",
      "Epoch 54/60\n",
      "300/300 [==============================] - 35s 115ms/step - loss: 3.8455\n",
      "Epoch 55/60\n",
      "300/300 [==============================] - 35s 115ms/step - loss: 3.8074\n",
      "Epoch 56/60\n",
      "300/300 [==============================] - 34s 115ms/step - loss: 3.8524\n",
      "Epoch 57/60\n",
      "300/300 [==============================] - 34s 115ms/step - loss: 3.7486\n",
      "Epoch 58/60\n",
      "300/300 [==============================] - 35s 115ms/step - loss: 3.8684\n",
      "Epoch 59/60\n",
      "300/300 [==============================] - 35s 115ms/step - loss: 3.7206\n",
      "Epoch 60/60\n",
      "300/300 [==============================] - 34s 115ms/step - loss: 3.6834\n"
     ]
    },
    {
     "data": {
      "text/plain": [
       "<keras.callbacks.History at 0x2145f7a3f28>"
      ]
     },
     "execution_count": 8,
     "metadata": {},
     "output_type": "execute_result"
    }
   ],
   "source": [
    "model.fit_generator(gen(32), steps_per_epoch=300, epochs=60)"
   ]
  },
  {
   "cell_type": "markdown",
   "metadata": {},
   "source": [
    "## 預測"
   ]
  },
  {
   "cell_type": "code",
   "execution_count": 98,
   "metadata": {},
   "outputs": [
    {
     "name": "stdout",
     "output_type": "stream",
     "text": [
      "pred:1K7C\n",
      "true: 1K7C\n"
     ]
    },
    {
     "data": {
      "image/png": "[encoded data removed]",
      "text/plain": [
       "<Figure size 432x288 with 1 Axes>"
      ]
     },
     "metadata": {
      "image/png": {
       "height": 217,
       "width": 369
      },
      "needs_background": "light"
     },
     "output_type": "display_data"
    }
   ],
   "source": [
    "characters2 = characters + ' '\n",
    "[X_test, y_test, _, _], _  = next(gen(1))\n",
    "y_pred = base_model.predict(X_test)\n",
    "##用ctc_decode得到解答，自己寫可以參考下方\n",
    "out = K.get_value(K.ctc_decode(y_pred, input_length=np.ones(y_pred.shape[0])*y_pred.shape[1], )[0][0])\n",
    "out = ''.join([characters[x] for x in out[0]])\n",
    "y_true = ''.join([characters[x] for x in y_test[0]])\n",
    "\n",
    "plt.imshow(X_test[0])\n",
    "plt.title('pred:' + str(out) + '\\ntrue: ' + str(y_true))\n",
    "print('pred:' + str(out) + '\\ntrue: ' + str(y_true))\n",
    "\n",
    "argmax = np.argmax(y_pred, axis=2)[0]"
   ]
  },
  {
   "cell_type": "markdown",
   "metadata": {},
   "source": [
    "## 自己寫 decode CTC"
   ]
  },
  {
   "cell_type": "code",
   "execution_count": 99,
   "metadata": {},
   "outputs": [],
   "source": [
    "## 其中0代表預測為空格，如果預測相同字符之間沒有空格要移除\n",
    "word=''\n",
    "n=''\n",
    "for single_result in y_pred[0].argmax(1):\n",
    "    if single_result != 36:\n",
    "        if n != single_result:\n",
    "            word+=characters[single_result]\n",
    "    n=single_result "
   ]
  },
  {
   "cell_type": "markdown",
   "metadata": {},
   "source": [
    "## 額外參考：加入RNN的神經網路"
   ]
  },
  {
   "cell_type": "code",
   "execution_count": 18,
   "metadata": {},
   "outputs": [
    {
     "name": "stderr",
     "output_type": "stream",
     "text": [
      "C:\\Users\\Jude\\Anaconda3\\envs\\tf\\lib\\site-packages\\ipykernel_launcher.py:8: UserWarning: Update your `Conv2D` call to the Keras 2 API: `Conv2D(32, (3, 3), activation=\"relu\")`\n",
      "  \n",
      "C:\\Users\\Jude\\Anaconda3\\envs\\tf\\lib\\site-packages\\ipykernel_launcher.py:10: UserWarning: Update your `Conv2D` call to the Keras 2 API: `Conv2D(32, (3, 3), activation=\"relu\")`\n",
      "  # Remove the CWD from sys.path while we load stuff.\n",
      "C:\\Users\\Jude\\Anaconda3\\envs\\tf\\lib\\site-packages\\ipykernel_launcher.py:23: UserWarning: Update your `GRU` call to the Keras 2 API: `GRU(128, return_sequences=True, name=\"gru1\", kernel_initializer=\"he_normal\")`\n",
      "C:\\Users\\Jude\\Anaconda3\\envs\\tf\\lib\\site-packages\\ipykernel_launcher.py:25: UserWarning: Update your `GRU` call to the Keras 2 API: `GRU(128, return_sequences=True, go_backwards=True, name=\"gru1_b\", kernel_initializer=\"he_normal\")`\n",
      "C:\\Users\\Jude\\Anaconda3\\envs\\tf\\lib\\site-packages\\ipykernel_launcher.py:28: UserWarning: Update your `GRU` call to the Keras 2 API: `GRU(128, return_sequences=True, name=\"gru2\", kernel_initializer=\"he_normal\")`\n",
      "C:\\Users\\Jude\\Anaconda3\\envs\\tf\\lib\\site-packages\\ipykernel_launcher.py:30: UserWarning: Update your `GRU` call to the Keras 2 API: `GRU(128, return_sequences=True, go_backwards=True, name=\"gru2_b\", kernel_initializer=\"he_normal\")`\n",
      "C:\\Users\\Jude\\Anaconda3\\envs\\tf\\lib\\site-packages\\ipykernel_launcher.py:34: UserWarning: Update your `Dense` call to the Keras 2 API: `Dense(37, activation=\"softmax\", kernel_initializer=\"he_normal\")`\n",
      "C:\\Users\\Jude\\Anaconda3\\envs\\tf\\lib\\site-packages\\ipykernel_launcher.py:36: UserWarning: Update your `Model` call to the Keras 2 API: `Model(inputs=Tensor(\"in..., outputs=Tensor(\"de...)`\n",
      "C:\\Users\\Jude\\Anaconda3\\envs\\tf\\lib\\site-packages\\ipykernel_launcher.py:44: UserWarning: Update your `Model` call to the Keras 2 API: `Model(inputs=[<tf.Tenso..., outputs=[<tf.Tenso...)`\n"
     ]
    }
   ],
   "source": [
    "from keras.models import *\n",
    "from keras.layers import *\n",
    "rnn_size = 128\n",
    "\n",
    "input_tensor = Input((height,width, 3))\n",
    "x = input_tensor\n",
    "for i in range(4):\n",
    "    x = Convolution2D(32, 3, 3, activation='relu')(x)\n",
    "    x = keras.layers.BatchNormalization(axis=-1)(x)\n",
    "    x = Convolution2D(32, 3, 3, activation='relu')(x)\n",
    "    x = keras.layers.BatchNormalization(axis=-1)(x)\n",
    "    if i <3:\n",
    "        x = MaxPooling2D(pool_size=(2, 2))(x)\n",
    "    else:\n",
    "        x = MaxPooling2D(pool_size=(2, 1))(x)\n",
    "\n",
    "\n",
    "conv_shape = x.get_shape()\n",
    "x = Reshape(target_shape=(int(conv_shape[2]), int(conv_shape[1]*conv_shape[3])))(x)\n",
    "\n",
    "x = Dense(32, activation='relu')(x)\n",
    "\n",
    "gru_1 = GRU(rnn_size, return_sequences=True, init='he_normal', name='gru1')(x)\n",
    "gru_1b = GRU(rnn_size, return_sequences=True, go_backwards=True, \n",
    "             init='he_normal', name='gru1_b')(x)\n",
    "gru1_merged = keras.layers.add([gru_1, gru_1b])\n",
    "\n",
    "gru_2 = GRU(rnn_size, return_sequences=True, init='he_normal', name='gru2')(gru1_merged)\n",
    "gru_2b = GRU(rnn_size, return_sequences=True, go_backwards=True, \n",
    "             init='he_normal', name='gru2_b')(gru1_merged)\n",
    "x = keras.layers.Concatenate()([gru_2, gru_2b])\n",
    "\n",
    "x = Dropout(0.25)(x)\n",
    "x = Dense(n_class, init='he_normal', activation='softmax')(x)\n",
    "\n",
    "base_model = Model(input=input_tensor, output=x)\n",
    "\n",
    "labels = Input(name='the_labels', shape=[n_len], dtype='float32')\n",
    "input_length = Input(name='input_length', shape=[1], dtype='int64')\n",
    "label_length = Input(name='label_length', shape=[1], dtype='int64')\n",
    "loss_out = Lambda(ctc_lambda_func, output_shape=(1,), \n",
    "                  name='ctc')([x, labels, input_length, label_length])\n",
    "\n",
    "model = Model(input=[input_tensor, labels, input_length, label_length], output=[loss_out])\n",
    "model.compile(loss={'ctc': lambda y_true, y_pred: y_pred}, optimizer='Adam')"
   ]
  },
  {
   "cell_type": "code",
   "execution_count": 19,
   "metadata": {},
   "outputs": [
    {
     "name": "stdout",
     "output_type": "stream",
     "text": [
      "__________________________________________________________________________________________________\n",
      "Layer (type)                    Output Shape         Param #     Connected to                     \n",
      "==================================================================================================\n",
      "input_3 (InputLayer)            (None, 80, 170, 3)   0                                            \n",
      "__________________________________________________________________________________________________\n",
      "conv2d_1 (Conv2D)               (None, 78, 168, 32)  896         input_3[0][0]                    \n",
      "__________________________________________________________________________________________________\n",
      "batch_normalization_1 (BatchNor (None, 78, 168, 32)  128         conv2d_1[0][0]                   \n",
      "__________________________________________________________________________________________________\n",
      "conv2d_2 (Conv2D)               (None, 76, 166, 32)  9248        batch_normalization_1[0][0]      \n",
      "__________________________________________________________________________________________________\n",
      "batch_normalization_2 (BatchNor (None, 76, 166, 32)  128         conv2d_2[0][0]                   \n",
      "__________________________________________________________________________________________________\n",
      "max_pooling2d_1 (MaxPooling2D)  (None, 38, 83, 32)   0           batch_normalization_2[0][0]      \n",
      "__________________________________________________________________________________________________\n",
      "conv2d_3 (Conv2D)               (None, 36, 81, 32)   9248        max_pooling2d_1[0][0]            \n",
      "__________________________________________________________________________________________________\n",
      "batch_normalization_3 (BatchNor (None, 36, 81, 32)   128         conv2d_3[0][0]                   \n",
      "__________________________________________________________________________________________________\n",
      "conv2d_4 (Conv2D)               (None, 34, 79, 32)   9248        batch_normalization_3[0][0]      \n",
      "__________________________________________________________________________________________________\n",
      "batch_normalization_4 (BatchNor (None, 34, 79, 32)   128         conv2d_4[0][0]                   \n",
      "__________________________________________________________________________________________________\n",
      "max_pooling2d_2 (MaxPooling2D)  (None, 17, 39, 32)   0           batch_normalization_4[0][0]      \n",
      "__________________________________________________________________________________________________\n",
      "conv2d_5 (Conv2D)               (None, 15, 37, 32)   9248        max_pooling2d_2[0][0]            \n",
      "__________________________________________________________________________________________________\n",
      "batch_normalization_5 (BatchNor (None, 15, 37, 32)   128         conv2d_5[0][0]                   \n",
      "__________________________________________________________________________________________________\n",
      "conv2d_6 (Conv2D)               (None, 13, 35, 32)   9248        batch_normalization_5[0][0]      \n",
      "__________________________________________________________________________________________________\n",
      "batch_normalization_6 (BatchNor (None, 13, 35, 32)   128         conv2d_6[0][0]                   \n",
      "__________________________________________________________________________________________________\n",
      "max_pooling2d_3 (MaxPooling2D)  (None, 6, 17, 32)    0           batch_normalization_6[0][0]      \n",
      "__________________________________________________________________________________________________\n",
      "conv2d_7 (Conv2D)               (None, 4, 15, 32)    9248        max_pooling2d_3[0][0]            \n",
      "__________________________________________________________________________________________________\n",
      "batch_normalization_7 (BatchNor (None, 4, 15, 32)    128         conv2d_7[0][0]                   \n",
      "__________________________________________________________________________________________________\n",
      "conv2d_8 (Conv2D)               (None, 2, 13, 32)    9248        batch_normalization_7[0][0]      \n",
      "__________________________________________________________________________________________________\n",
      "batch_normalization_8 (BatchNor (None, 2, 13, 32)    128         conv2d_8[0][0]                   \n",
      "__________________________________________________________________________________________________\n",
      "max_pooling2d_4 (MaxPooling2D)  (None, 1, 13, 32)    0           batch_normalization_8[0][0]      \n",
      "__________________________________________________________________________________________________\n",
      "reshape_3 (Reshape)             (None, 13, 32)       0           max_pooling2d_4[0][0]            \n",
      "__________________________________________________________________________________________________\n",
      "dense_5 (Dense)                 (None, 13, 32)       1056        reshape_3[0][0]                  \n",
      "__________________________________________________________________________________________________\n",
      "gru1 (GRU)                      (None, 13, 128)      61824       dense_5[0][0]                    \n",
      "__________________________________________________________________________________________________\n",
      "gru1_b (GRU)                    (None, 13, 128)      61824       dense_5[0][0]                    \n",
      "__________________________________________________________________________________________________\n",
      "add_1 (Add)                     (None, 13, 128)      0           gru1[0][0]                       \n",
      "                                                                 gru1_b[0][0]                     \n",
      "__________________________________________________________________________________________________\n",
      "gru2 (GRU)                      (None, 13, 128)      98688       add_1[0][0]                      \n",
      "__________________________________________________________________________________________________\n",
      "gru2_b (GRU)                    (None, 13, 128)      98688       add_1[0][0]                      \n",
      "__________________________________________________________________________________________________\n",
      "concatenate_1 (Concatenate)     (None, 13, 256)      0           gru2[0][0]                       \n",
      "                                                                 gru2_b[0][0]                     \n",
      "__________________________________________________________________________________________________\n",
      "dropout_3 (Dropout)             (None, 13, 256)      0           concatenate_1[0][0]              \n",
      "__________________________________________________________________________________________________\n",
      "dense_6 (Dense)                 (None, 13, 37)       9509        dropout_3[0][0]                  \n",
      "__________________________________________________________________________________________________\n",
      "the_labels (InputLayer)         (None, 4)            0                                            \n",
      "__________________________________________________________________________________________________\n",
      "input_length (InputLayer)       (None, 1)            0                                            \n",
      "__________________________________________________________________________________________________\n",
      "label_length (InputLayer)       (None, 1)            0                                            \n",
      "__________________________________________________________________________________________________\n",
      "ctc (Lambda)                    (None, 1)            0           dense_6[0][0]                    \n",
      "                                                                 the_labels[0][0]                 \n",
      "                                                                 input_length[0][0]               \n",
      "                                                                 label_length[0][0]               \n",
      "==================================================================================================\n",
      "Total params: 398,245\n",
      "Trainable params: 397,733\n",
      "Non-trainable params: 512\n",
      "__________________________________________________________________________________________________\n"
     ]
    }
   ],
   "source": [
    "model.summary()"
   ]
  },
  {
   "cell_type": "code",
   "execution_count": 20,
   "metadata": {
    "colab": {
     "base_uri": "https://localhost:8080/",
     "height": 1000
    },
    "colab_type": "code",
    "id": "fqdKnqollUKj",
    "outputId": "3da34151-a9df-4287-ead6-50c414d30e65"
   },
   "outputs": [
    {
     "name": "stdout",
     "output_type": "stream",
     "text": [
      "Epoch 1/60\n",
      "300/300 [==============================] - 47s 157ms/step - loss: 15.4357\n",
      "Epoch 2/60\n",
      "300/300 [==============================] - 43s 142ms/step - loss: 6.9253\n",
      "Epoch 3/60\n",
      "300/300 [==============================] - 43s 143ms/step - loss: 3.7077\n",
      "Epoch 4/60\n",
      "300/300 [==============================] - 43s 144ms/step - loss: 2.8598\n",
      "Epoch 5/60\n",
      "300/300 [==============================] - 43s 143ms/step - loss: 2.4164\n",
      "Epoch 6/60\n",
      "300/300 [==============================] - 43s 143ms/step - loss: 2.1936\n",
      "Epoch 7/60\n",
      "300/300 [==============================] - 43s 144ms/step - loss: 1.9721\n",
      "Epoch 8/60\n",
      "300/300 [==============================] - 43s 145ms/step - loss: 1.8433\n",
      "Epoch 9/60\n",
      "300/300 [==============================] - 43s 144ms/step - loss: 1.7131\n",
      "Epoch 10/60\n",
      "300/300 [==============================] - 43s 143ms/step - loss: 1.6913\n",
      "Epoch 11/60\n",
      "300/300 [==============================] - 43s 142ms/step - loss: 1.6375\n",
      "Epoch 12/60\n",
      "300/300 [==============================] - 43s 144ms/step - loss: 1.5368\n",
      "Epoch 13/60\n",
      "300/300 [==============================] - 44s 145ms/step - loss: 1.5346\n",
      "Epoch 14/60\n",
      "300/300 [==============================] - 43s 145ms/step - loss: 1.4345\n",
      "Epoch 15/60\n",
      "300/300 [==============================] - 44s 147ms/step - loss: 1.4037\n",
      "Epoch 16/60\n",
      "300/300 [==============================] - 44s 145ms/step - loss: 1.3567\n",
      "Epoch 17/60\n",
      "300/300 [==============================] - 44s 146ms/step - loss: 1.3040\n",
      "Epoch 18/60\n",
      "300/300 [==============================] - 44s 146ms/step - loss: 1.3137\n",
      "Epoch 19/60\n",
      "300/300 [==============================] - 44s 145ms/step - loss: 1.2751\n",
      "Epoch 20/60\n",
      "300/300 [==============================] - 44s 146ms/step - loss: 1.2315\n",
      "Epoch 21/60\n",
      "300/300 [==============================] - 44s 145ms/step - loss: 1.2529\n",
      "Epoch 22/60\n",
      "300/300 [==============================] - 44s 145ms/step - loss: 1.1303\n",
      "Epoch 23/60\n",
      "300/300 [==============================] - 44s 145ms/step - loss: 1.2187\n",
      "Epoch 24/60\n",
      "300/300 [==============================] - 44s 145ms/step - loss: 1.1740\n",
      "Epoch 25/60\n",
      "300/300 [==============================] - 44s 145ms/step - loss: 1.2178\n",
      "Epoch 26/60\n",
      "300/300 [==============================] - 44s 146ms/step - loss: 1.0690\n",
      "Epoch 27/60\n",
      "300/300 [==============================] - 44s 146ms/step - loss: 1.1506\n",
      "Epoch 28/60\n",
      "300/300 [==============================] - 44s 146ms/step - loss: 1.0703\n",
      "Epoch 29/60\n",
      "300/300 [==============================] - 44s 146ms/step - loss: 1.0617\n",
      "Epoch 30/60\n",
      "300/300 [==============================] - 44s 147ms/step - loss: 1.0115\n",
      "Epoch 31/60\n",
      "300/300 [==============================] - 44s 147ms/step - loss: 1.0738\n",
      "Epoch 32/60\n",
      "300/300 [==============================] - 44s 146ms/step - loss: 1.1586\n",
      "Epoch 33/60\n",
      "300/300 [==============================] - 44s 146ms/step - loss: 1.0385\n",
      "Epoch 34/60\n",
      "300/300 [==============================] - 44s 146ms/step - loss: 1.0102\n",
      "Epoch 35/60\n",
      "300/300 [==============================] - 44s 145ms/step - loss: 0.9586\n",
      "Epoch 36/60\n",
      "300/300 [==============================] - 43s 145ms/step - loss: 1.0943\n",
      "Epoch 37/60\n",
      "300/300 [==============================] - 44s 146ms/step - loss: 1.0465\n",
      "Epoch 38/60\n",
      "300/300 [==============================] - 44s 146ms/step - loss: 1.0219\n",
      "Epoch 39/60\n",
      "300/300 [==============================] - 43s 145ms/step - loss: 1.0059\n",
      "Epoch 40/60\n",
      "300/300 [==============================] - 43s 145ms/step - loss: 0.9570\n",
      "Epoch 41/60\n",
      "300/300 [==============================] - 44s 145ms/step - loss: 1.0210\n",
      "Epoch 42/60\n",
      "300/300 [==============================] - 44s 145ms/step - loss: 0.9443\n",
      "Epoch 43/60\n",
      "300/300 [==============================] - 43s 145ms/step - loss: 0.9862\n",
      "Epoch 44/60\n",
      "300/300 [==============================] - 44s 146ms/step - loss: 0.9549\n",
      "Epoch 45/60\n",
      "300/300 [==============================] - 44s 146ms/step - loss: 1.0843\n",
      "Epoch 46/60\n",
      "300/300 [==============================] - 44s 146ms/step - loss: 1.0258\n",
      "Epoch 47/60\n",
      "300/300 [==============================] - 44s 146ms/step - loss: 0.9174\n",
      "Epoch 48/60\n",
      "300/300 [==============================] - 44s 145ms/step - loss: 0.9540\n",
      "Epoch 49/60\n",
      "300/300 [==============================] - 44s 147ms/step - loss: 0.9720\n",
      "Epoch 50/60\n",
      "300/300 [==============================] - 44s 146ms/step - loss: 0.9975\n",
      "Epoch 51/60\n",
      "300/300 [==============================] - 44s 145ms/step - loss: 0.9792\n",
      "Epoch 52/60\n",
      "300/300 [==============================] - 44s 146ms/step - loss: 0.9522\n",
      "Epoch 53/60\n",
      "300/300 [==============================] - 44s 146ms/step - loss: 0.9091\n",
      "Epoch 54/60\n",
      "300/300 [==============================] - 44s 146ms/step - loss: 0.8935\n",
      "Epoch 55/60\n",
      "300/300 [==============================] - 44s 146ms/step - loss: 0.9650\n",
      "Epoch 56/60\n",
      "300/300 [==============================] - 44s 146ms/step - loss: 0.9476\n",
      "Epoch 57/60\n",
      "300/300 [==============================] - 44s 145ms/step - loss: 0.9245\n",
      "Epoch 58/60\n",
      "300/300 [==============================] - 44s 146ms/step - loss: 0.9154\n",
      "Epoch 59/60\n",
      "300/300 [==============================] - 44s 146ms/step - loss: 1.0528\n",
      "Epoch 60/60\n",
      "300/300 [==============================] - 43s 145ms/step - loss: 0.9056\n"
     ]
    },
    {
     "data": {
      "text/plain": [
       "<keras.callbacks.History at 0x2147476ba20>"
      ]
     },
     "execution_count": 20,
     "metadata": {},
     "output_type": "execute_result"
    }
   ],
   "source": [
    "model.fit_generator(gen(32), steps_per_epoch=300, epochs=60)"
   ]
  },
  {
   "cell_type": "code",
   "execution_count": 81,
   "metadata": {},
   "outputs": [
    {
     "name": "stdout",
     "output_type": "stream",
     "text": [
      "pred:3MN\n",
      "true: 3KWN\n"
     ]
    },
    {
     "data": {
      "image/png": "[encoded data removed]",
      "text/plain": [
       "<Figure size 432x288 with 1 Axes>"
      ]
     },
     "metadata": {
      "image/png": {
       "height": 217,
       "width": 369
      },
      "needs_background": "light"
     },
     "output_type": "display_data"
    }
   ],
   "source": [
    "characters2 = characters + ' '\n",
    "[X_test, y_test, _, _], _  = next(gen(1))\n",
    "y_pred = base_model.predict(X_test)\n",
    "##用ctc_decode得到解答，自己寫可以參考下方\n",
    "out = K.get_value(K.ctc_decode(y_pred, input_length=np.ones(y_pred.shape[0])*y_pred.shape[1], )[0][0])\n",
    "out = ''.join([characters[x] for x in out[0]])\n",
    "y_true = ''.join([characters[x] for x in y_test[0]])\n",
    "\n",
    "plt.imshow(X_test[0])\n",
    "plt.title('pred:' + str(out) + '\\ntrue: ' + str(y_true))\n",
    "print('pred:' + str(out) + '\\ntrue: ' + str(y_true))\n",
    "\n",
    "argmax = np.argmax(y_pred, axis=2)[0]"
   ]
  },
  {
   "cell_type": "code",
   "execution_count": null,
   "metadata": {},
   "outputs": [],
   "source": []
  }
 ],
 "metadata": {
  "accelerator": "GPU",
  "colab": {
   "collapsed_sections": [],
   "name": "Captcha.ipynb",
   "provenance": []
  },
  "kernelspec": {
   "display_name": "Python [conda env:tf]",
   "language": "python",
   "name": "conda-env-tf-py"
  },
  "language_info": {
   "codemirror_mode": {
    "name": "ipython",
    "version": 3
   },
   "file_extension": ".py",
   "mimetype": "text/x-python",
   "name": "python",
   "nbconvert_exporter": "python",
   "pygments_lexer": "ipython3",
   "version": "3.7.3"
  }
 },
 "nbformat": 4,
 "nbformat_minor": 2
}
