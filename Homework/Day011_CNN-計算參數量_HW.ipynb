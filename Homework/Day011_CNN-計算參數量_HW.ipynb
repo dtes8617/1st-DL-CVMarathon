{
  "nbformat": 4,
  "nbformat_minor": 0,
  "metadata": {
    "colab": {
      "name": "CNN-計算參數量.ipynb",
      "provenance": []
    },
    "kernelspec": {
      "name": "python3",
      "display_name": "Python 3"
    },
    "language_info": {
      "codemirror_mode": {
        "name": "ipython",
        "version": 3
      },
      "file_extension": ".py",
      "mimetype": "text/x-python",
      "name": "python",
      "nbconvert_exporter": "python",
      "pygments_lexer": "ipython3",
      "version": "3.6.7"
    },
    "accelerator": "GPU"
  },
  "cells": [
    {
      "cell_type": "markdown",
      "metadata": {
        "colab_type": "text",
        "id": "f6jN0Y8x4gNA"
      },
      "source": [
        "## 『本次練習內容』\n",
        "#### 運用Keras搭建簡單的Dense Layer與 Convolution2D Layer，使用相同Neurons數量，計算總參數量相差多少。\n"
      ]
    },
    {
      "cell_type": "markdown",
      "metadata": {
        "id": "OTMwMgGksh6z",
        "colab_type": "text"
      },
      "source": [
        "## 『本次練習目的』\n",
        "  #### 本次練習主要是要讓各位同學們了解CNN與FC層的參數使用量差異\n",
        "  #### Convolution2D有許多參數可以設置，之後章節會細談\n",
        "  #### 不熟Keras的學員們也可以藉此了解NN層的不同搭法"
      ]
    },
    {
      "cell_type": "code",
      "metadata": {
        "colab_type": "code",
        "id": "SAFr7hM24gNB",
        "colab": {
          "base_uri": "https://localhost:8080/",
          "height": 80
        },
        "outputId": "8a0cdabe-a937-4ee5-8442-cde6efd4fc23"
      },
      "source": [
        "from keras.models import Sequential\n",
        "from keras.layers import Convolution2D\n",
        "from keras.layers import Input, Dense\n",
        "from keras.models import Model"
      ],
      "execution_count": 1,
      "outputs": [
        {
          "output_type": "stream",
          "text": [
            "Using TensorFlow backend.\n"
          ],
          "name": "stderr"
        },
        {
          "output_type": "display_data",
          "data": {
            "text/html": [
              "<p style=\"color: red;\">\n",
              "The default version of TensorFlow in Colab will soon switch to TensorFlow 2.x.<br>\n",
              "We recommend you <a href=\"https://www.tensorflow.org/guide/migrate\" target=\"_blank\">upgrade</a> now \n",
              "or ensure your notebook will continue to use TensorFlow 1.x via the <code>%tensorflow_version 1.x</code> magic:\n",
              "<a href=\"https://colab.research.google.com/notebooks/tensorflow_version.ipynb\" target=\"_blank\">more info</a>.</p>\n"
            ],
            "text/plain": [
              "<IPython.core.display.HTML object>"
            ]
          },
          "metadata": {
            "tags": []
          }
        }
      ]
    },
    {
      "cell_type": "code",
      "metadata": {
        "id": "uqgeuFcGsh62",
        "colab_type": "code",
        "colab": {
          "base_uri": "https://localhost:8080/",
          "height": 221
        },
        "outputId": "72761239-0c5c-4cbb-df77-40cb03be8039"
      },
      "source": [
        "##輸入照片尺寸==28*28*1\n",
        "##都用一層，288個神經元\n",
        "\n",
        "##建造一個一層的CNN層\n",
        "classifier=Sequential()\n",
        "\n",
        "##Kernel size 3*3，用32張，輸入大小28*28*1\n",
        "classifier.add(Convolution2D(32, (3,3), input_shape = (28, 28, 1)))\n",
        "'''32張Kernel，大小為3*3，輸入尺寸為28*28*1'''\n",
        "##看看model結構\n",
        "print(classifier.summary())\n",
        "'''理解輸出Total params為何==320'''\n"
      ],
      "execution_count": 10,
      "outputs": [
        {
          "output_type": "stream",
          "text": [
            "Model: \"sequential_5\"\n",
            "_________________________________________________________________\n",
            "Layer (type)                 Output Shape              Param #   \n",
            "=================================================================\n",
            "conv2d_2 (Conv2D)            (None, 26, 26, 32)        320       \n",
            "=================================================================\n",
            "Total params: 320\n",
            "Trainable params: 320\n",
            "Non-trainable params: 0\n",
            "_________________________________________________________________\n",
            "None\n"
          ],
          "name": "stdout"
        },
        {
          "output_type": "execute_result",
          "data": {
            "text/plain": [
              "'理解輸出Total params為何==320'"
            ]
          },
          "metadata": {
            "tags": []
          },
          "execution_count": 10
        }
      ]
    },
    {
      "cell_type": "code",
      "metadata": {
        "id": "WWu76HfGwJ6V",
        "colab_type": "code",
        "colab": {
          "base_uri": "https://localhost:8080/",
          "height": 255
        },
        "outputId": "77141316-7482-4ab2-81f8-10e424ccbada"
      },
      "source": [
        "##建造一個一層的FC層\n",
        "classifier=Sequential()\n",
        "##輸入為28*28*1攤平==784\n",
        "inputs = Input((784,))\n",
        "'''輸入尺寸為28*28*1'''\n",
        "##CNN中用了(3*3*1)*32個神經元，我們這邊也用相同神經元數量\n",
        "x=Dense(288)(inputs)\n",
        "'''使用288個神經元'''\n",
        "model = Model(inputs=inputs, outputs=x)\n",
        "##看看model結構\n",
        "print(model.summary())\n",
        "'''理解輸出Total params為何==226080'''\n",
        "\n",
        "##大家可以自己變換設定看看參數變化"
      ],
      "execution_count": 11,
      "outputs": [
        {
          "output_type": "stream",
          "text": [
            "Model: \"model_3\"\n",
            "_________________________________________________________________\n",
            "Layer (type)                 Output Shape              Param #   \n",
            "=================================================================\n",
            "input_3 (InputLayer)         (None, 784)               0         \n",
            "_________________________________________________________________\n",
            "dense_3 (Dense)              (None, 288)               226080    \n",
            "=================================================================\n",
            "Total params: 226,080\n",
            "Trainable params: 226,080\n",
            "Non-trainable params: 0\n",
            "_________________________________________________________________\n",
            "None\n"
          ],
          "name": "stdout"
        },
        {
          "output_type": "execute_result",
          "data": {
            "text/plain": [
              "'理解輸出Total params為何==226080'"
            ]
          },
          "metadata": {
            "tags": []
          },
          "execution_count": 11
        }
      ]
    }
  ]
}