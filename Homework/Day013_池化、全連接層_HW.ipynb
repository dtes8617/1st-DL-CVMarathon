{
  "nbformat": 4,
  "nbformat_minor": 0,
  "metadata": {
    "colab": {
      "name": "池化、全連接層.ipynb",
      "provenance": []
    },
    "kernelspec": {
      "name": "python3",
      "display_name": "Python 3"
    },
    "language_info": {
      "codemirror_mode": {
        "name": "ipython",
        "version": 3
      },
      "file_extension": ".py",
      "mimetype": "text/x-python",
      "name": "python",
      "nbconvert_exporter": "python",
      "pygments_lexer": "ipython3",
      "version": "3.6.7"
    },
    "accelerator": "GPU"
  },
  "cells": [
    {
      "cell_type": "markdown",
      "metadata": {
        "id": "ggHPzOxGVmMV",
        "colab_type": "text"
      },
      "source": [
        "## 『作業內容』\n",
        "####   依照指示，搭建Maxpooling層與全連接層"
      ]
    },
    {
      "cell_type": "markdown",
      "metadata": {
        "id": "CpzaPvkGVmMW",
        "colab_type": "text"
      },
      "source": [
        "## 『目標』\n",
        "####   了解Maxpooling的原理與CNN、FC層連結的方式"
      ]
    },
    {
      "cell_type": "code",
      "metadata": {
        "id": "aL3j3fB0VmMW",
        "colab_type": "code",
        "colab": {
          "base_uri": "https://localhost:8080/",
          "height": 80
        },
        "outputId": "d128fcb0-d6b2-4fbb-ecd4-922675b719c3"
      },
      "source": [
        "from keras.models import Sequential  #用來啟動 NN\n",
        "from keras.layers import Conv2D  # Convolution Operation\n",
        "from keras.layers import MaxPooling2D # Pooling\n",
        "from keras.layers import Flatten\n",
        "from keras.layers import Dense # Fully Connected Networks\n"
      ],
      "execution_count": 1,
      "outputs": [
        {
          "output_type": "stream",
          "text": [
            "Using TensorFlow backend.\n"
          ],
          "name": "stderr"
        },
        {
          "output_type": "display_data",
          "data": {
            "text/html": [
              "<p style=\"color: red;\">\n",
              "The default version of TensorFlow in Colab will soon switch to TensorFlow 2.x.<br>\n",
              "We recommend you <a href=\"https://www.tensorflow.org/guide/migrate\" target=\"_blank\">upgrade</a> now \n",
              "or ensure your notebook will continue to use TensorFlow 1.x via the <code>%tensorflow_version 1.x</code> magic:\n",
              "<a href=\"https://colab.research.google.com/notebooks/tensorflow_version.ipynb\" target=\"_blank\">more info</a>.</p>\n"
            ],
            "text/plain": [
              "<IPython.core.display.HTML object>"
            ]
          },
          "metadata": {
            "tags": []
          }
        }
      ]
    },
    {
      "cell_type": "code",
      "metadata": {
        "colab_type": "code",
        "id": "43xxX0yJxiDr",
        "colab": {}
      },
      "source": [
        "input_shape = (32, 32, 3)\n",
        "\n",
        "model = Sequential()\n",
        "\n",
        "model.add(Conv2D(32, kernel_size=(3, 3), padding='same',input_shape=input_shape))\n",
        "model.add(MaxPooling2D((2,2), strides=2))  ##pooling_size=2,2 strides=2,2 輸出feature map 大小為多少？\n",
        "\n",
        "model.add(Conv2D(64, kernel_size=(3, 3), padding='same'))\n",
        "model.add(MaxPooling2D((2,2), strides=2))##pooling_size=2,2 strides=2,2 輸出feature map 大小為多少？\n",
        "\n",
        "model.add(Conv2D(128, kernel_size=(3, 3), padding='same'))\n",
        "model.add(MaxPooling2D((1,1), strides=1))##pooling_size=1,1 strides=1,1 輸出feature map 大小為多少？\n",
        "\n",
        "model.add(Conv2D(10, kernel_size=(3, 3), padding='same'))\n",
        "model.add(Flatten()) ##Flatten完尺寸如何變化？\n",
        "#model.add(GlobalAveragePooling2D()) #關掉Flatten，使用GlobalAveragePooling2D，完尺寸如何變化？\n",
        "\n",
        "model.add(Dense(28)) ##全連接層使用28個units"
      ],
      "execution_count": 0,
      "outputs": []
    },
    {
      "cell_type": "code",
      "metadata": {
        "colab_type": "code",
        "id": "nFgU3mB-xiDt",
        "outputId": "c3f62135-3ff6-41ee-cc2f-fafdf31b59da",
        "colab": {
          "base_uri": "https://localhost:8080/",
          "height": 459
        }
      },
      "source": [
        "model.summary()"
      ],
      "execution_count": 8,
      "outputs": [
        {
          "output_type": "stream",
          "text": [
            "Model: \"sequential_2\"\n",
            "_________________________________________________________________\n",
            "Layer (type)                 Output Shape              Param #   \n",
            "=================================================================\n",
            "conv2d_5 (Conv2D)            (None, 32, 32, 32)        896       \n",
            "_________________________________________________________________\n",
            "max_pooling2d_4 (MaxPooling2 (None, 16, 16, 32)        0         \n",
            "_________________________________________________________________\n",
            "conv2d_6 (Conv2D)            (None, 16, 16, 64)        18496     \n",
            "_________________________________________________________________\n",
            "max_pooling2d_5 (MaxPooling2 (None, 8, 8, 64)          0         \n",
            "_________________________________________________________________\n",
            "conv2d_7 (Conv2D)            (None, 8, 8, 128)         73856     \n",
            "_________________________________________________________________\n",
            "max_pooling2d_6 (MaxPooling2 (None, 8, 8, 128)         0         \n",
            "_________________________________________________________________\n",
            "conv2d_8 (Conv2D)            (None, 8, 8, 10)          11530     \n",
            "_________________________________________________________________\n",
            "flatten_2 (Flatten)          (None, 640)               0         \n",
            "_________________________________________________________________\n",
            "dense_1 (Dense)              (None, 28)                17948     \n",
            "=================================================================\n",
            "Total params: 122,726\n",
            "Trainable params: 122,726\n",
            "Non-trainable params: 0\n",
            "_________________________________________________________________\n"
          ],
          "name": "stdout"
        }
      ]
    },
    {
      "cell_type": "code",
      "metadata": {
        "colab_type": "code",
        "id": "YL-hVXhXXm_Q",
        "colab": {}
      },
      "source": [
        "from keras.layers import GlobalAveragePooling2D\n",
        "\n",
        "input_shape = (32, 32, 3)\n",
        "\n",
        "model = Sequential()\n",
        "\n",
        "model.add(Conv2D(32, kernel_size=(3, 3), padding='same',input_shape=input_shape))\n",
        "model.add(MaxPooling2D((2,2), strides=2))  ##pooling_size=2,2 strides=2,2 輸出feature map 大小為多少？\n",
        "\n",
        "model.add(Conv2D(64, kernel_size=(3, 3), padding='same'))\n",
        "model.add(MaxPooling2D((2,2), strides=2))##pooling_size=2,2 strides=2,2 輸出feature map 大小為多少？\n",
        "\n",
        "model.add(Conv2D(128, kernel_size=(3, 3), padding='same'))\n",
        "model.add(MaxPooling2D((1,1), strides=1))##pooling_size=1,1 strides=1,1 輸出feature map 大小為多少？\n",
        "\n",
        "model.add(Conv2D(10, kernel_size=(3, 3), padding='same'))\n",
        "# model.add(Flatten()) ##Flatten完尺寸如何變化？\n",
        "model.add(GlobalAveragePooling2D()) #關掉Flatten，使用GlobalAveragePooling2D，完尺寸如何變化？\n",
        "\n",
        "model.add(Dense(28)) ##全連接層使用28個units"
      ],
      "execution_count": 0,
      "outputs": []
    },
    {
      "cell_type": "code",
      "metadata": {
        "colab_type": "code",
        "outputId": "6630c2b5-7e99-40e1-ffe7-b7e749f832ff",
        "id": "6wsryo14Xm_T",
        "colab": {
          "base_uri": "https://localhost:8080/",
          "height": 459
        }
      },
      "source": [
        "model.summary()"
      ],
      "execution_count": 16,
      "outputs": [
        {
          "output_type": "stream",
          "text": [
            "Model: \"sequential_6\"\n",
            "_________________________________________________________________\n",
            "Layer (type)                 Output Shape              Param #   \n",
            "=================================================================\n",
            "conv2d_21 (Conv2D)           (None, 32, 32, 32)        896       \n",
            "_________________________________________________________________\n",
            "max_pooling2d_16 (MaxPooling (None, 16, 16, 32)        0         \n",
            "_________________________________________________________________\n",
            "conv2d_22 (Conv2D)           (None, 16, 16, 64)        18496     \n",
            "_________________________________________________________________\n",
            "max_pooling2d_17 (MaxPooling (None, 8, 8, 64)          0         \n",
            "_________________________________________________________________\n",
            "conv2d_23 (Conv2D)           (None, 8, 8, 128)         73856     \n",
            "_________________________________________________________________\n",
            "max_pooling2d_18 (MaxPooling (None, 8, 8, 128)         0         \n",
            "_________________________________________________________________\n",
            "conv2d_24 (Conv2D)           (None, 8, 8, 10)          11530     \n",
            "_________________________________________________________________\n",
            "global_average_pooling2d_3 ( (None, 10)                0         \n",
            "_________________________________________________________________\n",
            "dense_4 (Dense)              (None, 28)                308       \n",
            "=================================================================\n",
            "Total params: 105,086\n",
            "Trainable params: 105,086\n",
            "Non-trainable params: 0\n",
            "_________________________________________________________________\n"
          ],
          "name": "stdout"
        }
      ]
    }
  ]
}