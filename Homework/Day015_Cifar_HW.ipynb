{
  "nbformat": 4,
  "nbformat_minor": 0,
  "metadata": {
    "kernelspec": {
      "name": "python3",
      "display_name": "Python 3"
    },
    "language_info": {
      "codemirror_mode": {
        "name": "ipython",
        "version": 3
      },
      "file_extension": ".py",
      "mimetype": "text/x-python",
      "name": "python",
      "nbconvert_exporter": "python",
      "pygments_lexer": "ipython3",
      "version": "3.6.7"
    },
    "colab": {
      "name": "Day015_Cifar_HW.ipynb",
      "provenance": []
    },
    "accelerator": "GPU"
  },
  "cells": [
    {
      "cell_type": "markdown",
      "metadata": {
        "id": "RAhUxwL4k0Bl",
        "colab_type": "text"
      },
      "source": [
        "## 『本次練習內容』\n",
        "#### 運用這幾天所學觀念搭建一個CNN分類器"
      ]
    },
    {
      "cell_type": "markdown",
      "metadata": {
        "id": "4P-faIBek0Bn",
        "colab_type": "text"
      },
      "source": [
        "## 『本次練習目的』\n",
        "  #### 熟悉CNN分類器搭建步驟與原理\n",
        "  #### 學員們可以嘗試不同搭法，如使用不同的Maxpooling層，用GlobalAveragePooling取代Flatten等等"
      ]
    },
    {
      "cell_type": "code",
      "metadata": {
        "id": "I82JeRvEk0Bo",
        "colab_type": "code",
        "colab": {
          "base_uri": "https://localhost:8080/",
          "height": 80
        },
        "outputId": "2f684328-2bb3-460c-8277-695909c4c01b"
      },
      "source": [
        "from keras.models import Sequential\n",
        "from keras.layers import Convolution2D\n",
        "from keras.layers import MaxPooling2D\n",
        "from keras.layers import Flatten\n",
        "from keras.layers import Dense\n",
        "from keras.layers import Dropout\n",
        "from keras.layers import BatchNormalization\n",
        "from keras.datasets import cifar10\n",
        "import numpy as np\n",
        "import tensorflow as tf\n",
        "from sklearn.preprocessing import OneHotEncoder\n"
      ],
      "execution_count": 1,
      "outputs": [
        {
          "output_type": "stream",
          "text": [
            "Using TensorFlow backend.\n"
          ],
          "name": "stderr"
        },
        {
          "output_type": "display_data",
          "data": {
            "text/html": [
              "<p style=\"color: red;\">\n",
              "The default version of TensorFlow in Colab will soon switch to TensorFlow 2.x.<br>\n",
              "We recommend you <a href=\"https://www.tensorflow.org/guide/migrate\" target=\"_blank\">upgrade</a> now \n",
              "or ensure your notebook will continue to use TensorFlow 1.x via the <code>%tensorflow_version 1.x</code> magic:\n",
              "<a href=\"https://colab.research.google.com/notebooks/tensorflow_version.ipynb\" target=\"_blank\">more info</a>.</p>\n"
            ],
            "text/plain": [
              "<IPython.core.display.HTML object>"
            ]
          },
          "metadata": {
            "tags": []
          }
        }
      ]
    },
    {
      "cell_type": "code",
      "metadata": {
        "id": "jjUBeH_5k0Bv",
        "colab_type": "code",
        "colab": {
          "base_uri": "https://localhost:8080/",
          "height": 68
        },
        "outputId": "0cfe10e7-a3ed-4a36-8e80-dfed06ee0150"
      },
      "source": [
        "(x_train, y_train), (x_test, y_test) = cifar10.load_data()\n",
        "\n",
        "print(x_train.shape) #(50000, 32, 32, 3)\n",
        "\n",
        "## Normalize Data\n",
        "def normalize(X_train,X_test):\n",
        "        mean = np.mean(X_train,axis=(0,1,2,3))\n",
        "        std = np.std(X_train, axis=(0, 1, 2, 3))\n",
        "        X_train = (X_train-mean)/(std+1e-7)\n",
        "        X_test = (X_test-mean)/(std+1e-7) \n",
        "        return X_train, X_test,mean,std\n",
        "    \n",
        "    \n",
        "## Normalize Training and Testset    \n",
        "x_train, x_test,mean_train,std_train = normalize(x_train, x_test) "
      ],
      "execution_count": 2,
      "outputs": [
        {
          "output_type": "stream",
          "text": [
            "Downloading data from https://www.cs.toronto.edu/~kriz/cifar-10-python.tar.gz\n",
            "170500096/170498071 [==============================] - 4s 0us/step\n",
            "(50000, 32, 32, 3)\n"
          ],
          "name": "stdout"
        }
      ]
    },
    {
      "cell_type": "code",
      "metadata": {
        "id": "ISkMLQJ8k0By",
        "colab_type": "code",
        "colab": {
          "base_uri": "https://localhost:8080/",
          "height": 105
        },
        "outputId": "d0c9b9df-730b-4c39-f9f6-0ec290745442"
      },
      "source": [
        "## OneHot Label 由(None, 1)-(None, 10)\n",
        "## ex. label=2,變成[0,0,1,0,0,0,0,0,0,0]\n",
        "one_hot=OneHotEncoder()\n",
        "y_train=one_hot.fit_transform(y_train).toarray()\n",
        "y_test=one_hot.transform(y_test).toarray()"
      ],
      "execution_count": 3,
      "outputs": [
        {
          "output_type": "stream",
          "text": [
            "/usr/local/lib/python3.6/dist-packages/sklearn/preprocessing/_encoders.py:415: FutureWarning: The handling of integer data will change in version 0.22. Currently, the categories are determined based on the range [0, max(values)], while in the future they will be determined based on the unique values.\n",
            "If you want the future behaviour and silence this warning, you can specify \"categories='auto'\".\n",
            "In case you used a LabelEncoder before this OneHotEncoder to convert the categories to integers, then you can now use the OneHotEncoder directly.\n",
            "  warnings.warn(msg, FutureWarning)\n"
          ],
          "name": "stderr"
        }
      ]
    },
    {
      "cell_type": "code",
      "metadata": {
        "id": "w1QwpAIWk0B1",
        "colab_type": "code",
        "colab": {
          "base_uri": "https://localhost:8080/",
          "height": 1000
        },
        "outputId": "cb92ba6b-2a96-4c7e-8e3e-95e8fd8374b8"
      },
      "source": [
        "\n",
        "classifier=Sequential()\n",
        "\n",
        "#卷積組合\n",
        "classifier.add(Convolution2D(32, (3,3), input_shape = (32,32,3), activation = 'relu', padding = 'same'))#32,3,3,input_shape=(32,32,3),activation='relu''\n",
        "classifier.add(BatchNormalization())\n",
        "\n",
        "\n",
        "\n",
        "#卷積組合\n",
        "classifier.add(Convolution2D(32, (3, 3), activation = 'relu'))\n",
        "classifier.add(BatchNormalization())\n",
        "\n",
        "'''自己決定MaxPooling2D放在哪裡'''\n",
        "classifier.add(MaxPooling2D(pool_size=(2,2)))\n",
        "\n",
        "#flatten\n",
        "classifier.add(Flatten())\n",
        "\n",
        "#FC\n",
        "classifier.add(Dense(100, activation = 'relu')) #output_dim=100,activation=relu\n",
        "\n",
        "#輸出\n",
        "classifier.add(Dense(output_dim=10, activation='softmax'))\n",
        "\n",
        "#超過兩個就要選categorical_crossentrophy\n",
        "classifier.compile(optimizer = 'adam', loss = 'categorical_crossentropy', metrics = ['accuracy'])\n",
        "classifier.fit(x_train,y_train,batch_size=100,epochs=100)"
      ],
      "execution_count": 5,
      "outputs": [
        {
          "output_type": "stream",
          "text": [
            "WARNING:tensorflow:From /usr/local/lib/python3.6/dist-packages/keras/optimizers.py:793: The name tf.train.Optimizer is deprecated. Please use tf.compat.v1.train.Optimizer instead.\n",
            "\n",
            "WARNING:tensorflow:From /usr/local/lib/python3.6/dist-packages/keras/backend/tensorflow_backend.py:3576: The name tf.log is deprecated. Please use tf.math.log instead.\n",
            "\n",
            "WARNING:tensorflow:From /usr/local/lib/python3.6/dist-packages/tensorflow_core/python/ops/math_grad.py:1424: where (from tensorflow.python.ops.array_ops) is deprecated and will be removed in a future version.\n",
            "Instructions for updating:\n",
            "Use tf.where in 2.0, which has the same broadcast rule as np.where\n"
          ],
          "name": "stdout"
        },
        {
          "output_type": "stream",
          "text": [
            "/usr/local/lib/python3.6/dist-packages/ipykernel_launcher.py:24: UserWarning: Update your `Dense` call to the Keras 2 API: `Dense(activation=\"softmax\", units=10)`\n"
          ],
          "name": "stderr"
        },
        {
          "output_type": "stream",
          "text": [
            "WARNING:tensorflow:From /usr/local/lib/python3.6/dist-packages/keras/backend/tensorflow_backend.py:1033: The name tf.assign_add is deprecated. Please use tf.compat.v1.assign_add instead.\n",
            "\n",
            "WARNING:tensorflow:From /usr/local/lib/python3.6/dist-packages/keras/backend/tensorflow_backend.py:1020: The name tf.assign is deprecated. Please use tf.compat.v1.assign instead.\n",
            "\n",
            "Epoch 1/100\n",
            "50000/50000 [==============================] - 11s 223us/step - loss: 1.3659 - acc: 0.5193\n",
            "Epoch 2/100\n",
            "50000/50000 [==============================] - 5s 91us/step - loss: 0.9685 - acc: 0.6575\n",
            "Epoch 3/100\n",
            "50000/50000 [==============================] - 5s 90us/step - loss: 0.7853 - acc: 0.7246\n",
            "Epoch 4/100\n",
            "50000/50000 [==============================] - 5s 93us/step - loss: 0.6543 - acc: 0.7735\n",
            "Epoch 5/100\n",
            "50000/50000 [==============================] - 5s 91us/step - loss: 0.5302 - acc: 0.8149\n",
            "Epoch 6/100\n",
            "50000/50000 [==============================] - 5s 92us/step - loss: 0.4129 - acc: 0.8573\n",
            "Epoch 7/100\n",
            "50000/50000 [==============================] - 5s 91us/step - loss: 0.3150 - acc: 0.8924\n",
            "Epoch 8/100\n",
            "50000/50000 [==============================] - 5s 92us/step - loss: 0.2342 - acc: 0.9205\n",
            "Epoch 9/100\n",
            "50000/50000 [==============================] - 5s 90us/step - loss: 0.1785 - acc: 0.9405\n",
            "Epoch 10/100\n",
            "50000/50000 [==============================] - 5s 91us/step - loss: 0.1499 - acc: 0.9480\n",
            "Epoch 11/100\n",
            "50000/50000 [==============================] - 5s 94us/step - loss: 0.1235 - acc: 0.9576\n",
            "Epoch 12/100\n",
            "50000/50000 [==============================] - 5s 92us/step - loss: 0.1133 - acc: 0.9613\n",
            "Epoch 13/100\n",
            "50000/50000 [==============================] - 5s 90us/step - loss: 0.0905 - acc: 0.9697\n",
            "Epoch 14/100\n",
            "50000/50000 [==============================] - 5s 91us/step - loss: 0.0899 - acc: 0.9691\n",
            "Epoch 15/100\n",
            "50000/50000 [==============================] - 4s 90us/step - loss: 0.0809 - acc: 0.9722\n",
            "Epoch 16/100\n",
            "50000/50000 [==============================] - 5s 91us/step - loss: 0.0752 - acc: 0.9746\n",
            "Epoch 17/100\n",
            "50000/50000 [==============================] - 4s 90us/step - loss: 0.0693 - acc: 0.9761\n",
            "Epoch 18/100\n",
            "50000/50000 [==============================] - 5s 90us/step - loss: 0.0614 - acc: 0.9796\n",
            "Epoch 19/100\n",
            "50000/50000 [==============================] - 4s 90us/step - loss: 0.0559 - acc: 0.9812\n",
            "Epoch 20/100\n",
            "50000/50000 [==============================] - 5s 90us/step - loss: 0.0629 - acc: 0.9791\n",
            "Epoch 21/100\n",
            "50000/50000 [==============================] - 4s 89us/step - loss: 0.0643 - acc: 0.9782\n",
            "Epoch 22/100\n",
            "50000/50000 [==============================] - 4s 89us/step - loss: 0.0527 - acc: 0.9822\n",
            "Epoch 23/100\n",
            "50000/50000 [==============================] - 5s 90us/step - loss: 0.0445 - acc: 0.9855\n",
            "Epoch 24/100\n",
            "50000/50000 [==============================] - 5s 90us/step - loss: 0.0527 - acc: 0.9825\n",
            "Epoch 25/100\n",
            "50000/50000 [==============================] - 5s 92us/step - loss: 0.0565 - acc: 0.9813\n",
            "Epoch 26/100\n",
            "50000/50000 [==============================] - 4s 89us/step - loss: 0.0450 - acc: 0.9852\n",
            "Epoch 27/100\n",
            "50000/50000 [==============================] - 4s 89us/step - loss: 0.0450 - acc: 0.9850\n",
            "Epoch 28/100\n",
            "50000/50000 [==============================] - 4s 89us/step - loss: 0.0457 - acc: 0.9847\n",
            "Epoch 29/100\n",
            "50000/50000 [==============================] - 5s 90us/step - loss: 0.0371 - acc: 0.9873\n",
            "Epoch 30/100\n",
            "50000/50000 [==============================] - 4s 90us/step - loss: 0.0434 - acc: 0.9856\n",
            "Epoch 31/100\n",
            "50000/50000 [==============================] - 5s 91us/step - loss: 0.0405 - acc: 0.9865\n",
            "Epoch 32/100\n",
            "50000/50000 [==============================] - 5s 92us/step - loss: 0.0348 - acc: 0.9888\n",
            "Epoch 33/100\n",
            "50000/50000 [==============================] - 4s 89us/step - loss: 0.0267 - acc: 0.9909\n",
            "Epoch 34/100\n",
            "50000/50000 [==============================] - 4s 88us/step - loss: 0.0375 - acc: 0.9880\n",
            "Epoch 35/100\n",
            "50000/50000 [==============================] - 4s 89us/step - loss: 0.0501 - acc: 0.9849\n",
            "Epoch 36/100\n",
            "50000/50000 [==============================] - 4s 89us/step - loss: 0.0322 - acc: 0.9899\n",
            "Epoch 37/100\n",
            "50000/50000 [==============================] - 4s 89us/step - loss: 0.0276 - acc: 0.9904\n",
            "Epoch 38/100\n",
            "50000/50000 [==============================] - 4s 89us/step - loss: 0.0387 - acc: 0.9879\n",
            "Epoch 39/100\n",
            "50000/50000 [==============================] - 5s 90us/step - loss: 0.0320 - acc: 0.9897\n",
            "Epoch 40/100\n",
            "50000/50000 [==============================] - 4s 88us/step - loss: 0.0272 - acc: 0.9911\n",
            "Epoch 41/100\n",
            "50000/50000 [==============================] - 4s 89us/step - loss: 0.0312 - acc: 0.9897\n",
            "Epoch 42/100\n",
            "50000/50000 [==============================] - 4s 89us/step - loss: 0.0279 - acc: 0.9912\n",
            "Epoch 43/100\n",
            "50000/50000 [==============================] - 5s 91us/step - loss: 0.0288 - acc: 0.9908\n",
            "Epoch 44/100\n",
            "50000/50000 [==============================] - 4s 89us/step - loss: 0.0313 - acc: 0.9898\n",
            "Epoch 45/100\n",
            "50000/50000 [==============================] - 4s 88us/step - loss: 0.0284 - acc: 0.9907\n",
            "Epoch 46/100\n",
            "50000/50000 [==============================] - 5s 90us/step - loss: 0.0240 - acc: 0.9924\n",
            "Epoch 47/100\n",
            "50000/50000 [==============================] - 4s 89us/step - loss: 0.0258 - acc: 0.9921\n",
            "Epoch 48/100\n",
            "50000/50000 [==============================] - 4s 89us/step - loss: 0.0317 - acc: 0.9903\n",
            "Epoch 49/100\n",
            "50000/50000 [==============================] - 4s 88us/step - loss: 0.0194 - acc: 0.9938\n",
            "Epoch 50/100\n",
            "50000/50000 [==============================] - 4s 89us/step - loss: 0.0259 - acc: 0.9919\n",
            "Epoch 51/100\n",
            "50000/50000 [==============================] - 4s 89us/step - loss: 0.0318 - acc: 0.9902\n",
            "Epoch 52/100\n",
            "50000/50000 [==============================] - 4s 88us/step - loss: 0.0247 - acc: 0.9918\n",
            "Epoch 53/100\n",
            "50000/50000 [==============================] - 5s 90us/step - loss: 0.0215 - acc: 0.9928\n",
            "Epoch 54/100\n",
            "50000/50000 [==============================] - 4s 89us/step - loss: 0.0200 - acc: 0.9932\n",
            "Epoch 55/100\n",
            "50000/50000 [==============================] - 4s 88us/step - loss: 0.0199 - acc: 0.9933\n",
            "Epoch 56/100\n",
            "50000/50000 [==============================] - 4s 87us/step - loss: 0.0244 - acc: 0.9927\n",
            "Epoch 57/100\n",
            "50000/50000 [==============================] - 4s 88us/step - loss: 0.0241 - acc: 0.9925\n",
            "Epoch 58/100\n",
            "50000/50000 [==============================] - 4s 88us/step - loss: 0.0239 - acc: 0.9928\n",
            "Epoch 59/100\n",
            "50000/50000 [==============================] - 4s 89us/step - loss: 0.0217 - acc: 0.9929\n",
            "Epoch 60/100\n",
            "50000/50000 [==============================] - 5s 90us/step - loss: 0.0178 - acc: 0.9945\n",
            "Epoch 61/100\n",
            "50000/50000 [==============================] - 4s 89us/step - loss: 0.0269 - acc: 0.9914\n",
            "Epoch 62/100\n",
            "50000/50000 [==============================] - 4s 88us/step - loss: 0.0195 - acc: 0.9941\n",
            "Epoch 63/100\n",
            "50000/50000 [==============================] - 4s 89us/step - loss: 0.0157 - acc: 0.9948\n",
            "Epoch 64/100\n",
            "50000/50000 [==============================] - 4s 88us/step - loss: 0.0169 - acc: 0.9944\n",
            "Epoch 65/100\n",
            "50000/50000 [==============================] - 4s 90us/step - loss: 0.0256 - acc: 0.9925\n",
            "Epoch 66/100\n",
            "50000/50000 [==============================] - 5s 91us/step - loss: 0.0221 - acc: 0.9936\n",
            "Epoch 67/100\n",
            "50000/50000 [==============================] - 5s 92us/step - loss: 0.0140 - acc: 0.9954\n",
            "Epoch 68/100\n",
            "50000/50000 [==============================] - 4s 88us/step - loss: 0.0146 - acc: 0.9950\n",
            "Epoch 69/100\n",
            "50000/50000 [==============================] - 4s 88us/step - loss: 0.0221 - acc: 0.9927\n",
            "Epoch 70/100\n",
            "50000/50000 [==============================] - 4s 89us/step - loss: 0.0234 - acc: 0.9928\n",
            "Epoch 71/100\n",
            "50000/50000 [==============================] - 4s 88us/step - loss: 0.0129 - acc: 0.9960\n",
            "Epoch 72/100\n",
            "50000/50000 [==============================] - 4s 89us/step - loss: 0.0166 - acc: 0.9949\n",
            "Epoch 73/100\n",
            "50000/50000 [==============================] - 4s 89us/step - loss: 0.0220 - acc: 0.9934\n",
            "Epoch 74/100\n",
            "50000/50000 [==============================] - 4s 90us/step - loss: 0.0209 - acc: 0.9937\n",
            "Epoch 75/100\n",
            "50000/50000 [==============================] - 4s 88us/step - loss: 0.0141 - acc: 0.9957\n",
            "Epoch 76/100\n",
            "50000/50000 [==============================] - 4s 89us/step - loss: 0.0201 - acc: 0.9939\n",
            "Epoch 77/100\n",
            "50000/50000 [==============================] - 4s 89us/step - loss: 0.0173 - acc: 0.9946\n",
            "Epoch 78/100\n",
            "50000/50000 [==============================] - 4s 89us/step - loss: 0.0185 - acc: 0.9946\n",
            "Epoch 79/100\n",
            "50000/50000 [==============================] - 5s 90us/step - loss: 0.0145 - acc: 0.9953\n",
            "Epoch 80/100\n",
            "50000/50000 [==============================] - 4s 89us/step - loss: 0.0157 - acc: 0.9951\n",
            "Epoch 81/100\n",
            "50000/50000 [==============================] - 4s 89us/step - loss: 0.0180 - acc: 0.9943\n",
            "Epoch 82/100\n",
            "50000/50000 [==============================] - 4s 90us/step - loss: 0.0141 - acc: 0.9956\n",
            "Epoch 83/100\n",
            "50000/50000 [==============================] - 4s 87us/step - loss: 0.0103 - acc: 0.9968\n",
            "Epoch 84/100\n",
            "50000/50000 [==============================] - 4s 89us/step - loss: 0.0126 - acc: 0.9959\n",
            "Epoch 85/100\n",
            "50000/50000 [==============================] - 4s 87us/step - loss: 0.0146 - acc: 0.9957\n",
            "Epoch 86/100\n",
            "50000/50000 [==============================] - 4s 88us/step - loss: 0.0240 - acc: 0.9929\n",
            "Epoch 87/100\n",
            "50000/50000 [==============================] - 4s 89us/step - loss: 0.0134 - acc: 0.9955\n",
            "Epoch 88/100\n",
            "50000/50000 [==============================] - 4s 88us/step - loss: 0.0139 - acc: 0.9958\n",
            "Epoch 89/100\n",
            "50000/50000 [==============================] - 4s 90us/step - loss: 0.0119 - acc: 0.9964\n",
            "Epoch 90/100\n",
            "50000/50000 [==============================] - 4s 90us/step - loss: 0.0141 - acc: 0.9952\n",
            "Epoch 91/100\n",
            "50000/50000 [==============================] - 4s 88us/step - loss: 0.0157 - acc: 0.9952\n",
            "Epoch 92/100\n",
            "50000/50000 [==============================] - 4s 88us/step - loss: 0.0162 - acc: 0.9956\n",
            "Epoch 93/100\n",
            "50000/50000 [==============================] - 4s 90us/step - loss: 0.0135 - acc: 0.9959\n",
            "Epoch 94/100\n",
            "50000/50000 [==============================] - 4s 89us/step - loss: 0.0142 - acc: 0.9960\n",
            "Epoch 95/100\n",
            "50000/50000 [==============================] - 4s 90us/step - loss: 0.0196 - acc: 0.9938\n",
            "Epoch 96/100\n",
            "50000/50000 [==============================] - 5s 93us/step - loss: 0.0133 - acc: 0.9960\n",
            "Epoch 97/100\n",
            "50000/50000 [==============================] - 4s 89us/step - loss: 0.0124 - acc: 0.9964\n",
            "Epoch 98/100\n",
            "50000/50000 [==============================] - 4s 90us/step - loss: 0.0092 - acc: 0.9970\n",
            "Epoch 99/100\n",
            "50000/50000 [==============================] - 4s 89us/step - loss: 0.0121 - acc: 0.9964\n",
            "Epoch 100/100\n",
            "50000/50000 [==============================] - 4s 90us/step - loss: 0.0168 - acc: 0.9950\n"
          ],
          "name": "stdout"
        },
        {
          "output_type": "execute_result",
          "data": {
            "text/plain": [
              "<keras.callbacks.History at 0x7f4afc7d2a20>"
            ]
          },
          "metadata": {
            "tags": []
          },
          "execution_count": 5
        }
      ]
    },
    {
      "cell_type": "markdown",
      "metadata": {
        "id": "_P1fmLQXk0B4",
        "colab_type": "text"
      },
      "source": [
        "## 預測新圖片，輸入影像前處理要與訓練時相同\n",
        "#### ((X-mean)/(std+1e-7) ):這裡的mean跟std是訓練集的\n",
        "## 維度如下方示範"
      ]
    },
    {
      "cell_type": "code",
      "metadata": {
        "id": "IMN09XoSk0B5",
        "colab_type": "code",
        "colab": {
          "base_uri": "https://localhost:8080/",
          "height": 68
        },
        "outputId": "8d2e986e-e1f5-4b66-b05e-e5c69bf4e169"
      },
      "source": [
        "input_example=(np.zeros(shape=(1,32,32,3))-mean_train)/(std_train+1e-7) \n",
        "classifier.predict(input_example)"
      ],
      "execution_count": 6,
      "outputs": [
        {
          "output_type": "execute_result",
          "data": {
            "text/plain": [
              "array([[3.5441453e-15, 1.2638248e-37, 1.8970935e-05, 9.9998105e-01,\n",
              "        9.0204253e-19, 7.9877298e-32, 2.7762066e-27, 0.0000000e+00,\n",
              "        4.8364598e-12, 9.4022200e-34]], dtype=float32)"
            ]
          },
          "metadata": {
            "tags": []
          },
          "execution_count": 6
        }
      ]
    }
  ]
}